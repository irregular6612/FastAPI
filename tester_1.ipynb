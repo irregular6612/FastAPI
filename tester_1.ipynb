{
 "cells": [
  {
   "cell_type": "markdown",
   "metadata": {},
   "source": [
    "# 라이브러리 imort"
   ]
  },
  {
   "cell_type": "code",
   "execution_count": 9,
   "metadata": {},
   "outputs": [],
   "source": [
    "import requests\n",
    "import pandas as pd\n",
    "import json"
   ]
  },
  {
   "cell_type": "markdown",
   "metadata": {},
   "source": [
    "# DB 읽어오기"
   ]
  },
  {
   "cell_type": "code",
   "execution_count": 2,
   "metadata": {},
   "outputs": [
    {
     "data": {
      "text/html": [
       "<div>\n",
       "<style scoped>\n",
       "    .dataframe tbody tr th:only-of-type {\n",
       "        vertical-align: middle;\n",
       "    }\n",
       "\n",
       "    .dataframe tbody tr th {\n",
       "        vertical-align: top;\n",
       "    }\n",
       "\n",
       "    .dataframe thead th {\n",
       "        text-align: right;\n",
       "    }\n",
       "</style>\n",
       "<table border=\"1\" class=\"dataframe\">\n",
       "  <thead>\n",
       "    <tr style=\"text-align: right;\">\n",
       "      <th></th>\n",
       "      <th>NO</th>\n",
       "      <th>개설부서</th>\n",
       "      <th>교과목-분반</th>\n",
       "      <th>교과목명</th>\n",
       "      <th>이수구분</th>\n",
       "      <th>세부분류</th>\n",
       "      <th>교과연구</th>\n",
       "      <th>담당교수</th>\n",
       "      <th>과정\\n구분</th>\n",
       "      <th>강/실/학</th>\n",
       "      <th>시간표</th>\n",
       "      <th>강의실</th>\n",
       "      <th>수강\\n정원</th>\n",
       "      <th>강의\\n계획서</th>\n",
       "      <th>설명\\n영상</th>\n",
       "      <th>강의언어</th>\n",
       "    </tr>\n",
       "  </thead>\n",
       "  <tbody>\n",
       "    <tr>\n",
       "      <th>0</th>\n",
       "      <td>1</td>\n",
       "      <td>AI융합 부전공</td>\n",
       "      <td>AI2002-01</td>\n",
       "      <td>디지털 유니버스 콜로퀴움</td>\n",
       "      <td>필수</td>\n",
       "      <td>NaN</td>\n",
       "      <td>교과</td>\n",
       "      <td>황치옥[60934]</td>\n",
       "      <td>학사</td>\n",
       "      <td>1/0/1</td>\n",
       "      <td>목 16:00~17:00</td>\n",
       "      <td>NaN</td>\n",
       "      <td>50</td>\n",
       "      <td>view</td>\n",
       "      <td>NaN</td>\n",
       "      <td>English/Korean</td>\n",
       "    </tr>\n",
       "    <tr>\n",
       "      <th>1</th>\n",
       "      <td>2</td>\n",
       "      <td>AI융합 부전공</td>\n",
       "      <td>AI3050-01</td>\n",
       "      <td>프로그래밍 언어 및 컴파일러</td>\n",
       "      <td>선택</td>\n",
       "      <td>NaN</td>\n",
       "      <td>교과</td>\n",
       "      <td>소순범[64560]</td>\n",
       "      <td>학사</td>\n",
       "      <td>3/0/3</td>\n",
       "      <td>월 16:00~17:30\\n수 16:00~17:30</td>\n",
       "      <td>전기전자컴퓨터공학부B(B201)</td>\n",
       "      <td>29</td>\n",
       "      <td>view</td>\n",
       "      <td>NaN</td>\n",
       "      <td>English</td>\n",
       "    </tr>\n",
       "    <tr>\n",
       "      <th>2</th>\n",
       "      <td>3</td>\n",
       "      <td>AI융합 부전공</td>\n",
       "      <td>AI3301-01</td>\n",
       "      <td>(MOOC 지정) 인공지능 로봇의 윤리</td>\n",
       "      <td>선택</td>\n",
       "      <td>NaN</td>\n",
       "      <td>교과</td>\n",
       "      <td>김건우[61974]</td>\n",
       "      <td>학사</td>\n",
       "      <td>3/0/3</td>\n",
       "      <td>월 09:00~10:30\\n수 09:00~10:30</td>\n",
       "      <td>NaN</td>\n",
       "      <td>20</td>\n",
       "      <td>view</td>\n",
       "      <td>NaN</td>\n",
       "      <td>Korean</td>\n",
       "    </tr>\n",
       "    <tr>\n",
       "      <th>3</th>\n",
       "      <td>4</td>\n",
       "      <td>AI융합 부전공</td>\n",
       "      <td>AI4001-01</td>\n",
       "      <td>AI 핵심기술 기반 실무 프로젝트 2</td>\n",
       "      <td>필수</td>\n",
       "      <td>NaN</td>\n",
       "      <td>교과</td>\n",
       "      <td>공득조[62553]</td>\n",
       "      <td>학사</td>\n",
       "      <td>1/4/3</td>\n",
       "      <td>금 13:00~18:00</td>\n",
       "      <td>금호정보통신연구동(금호관)(201)</td>\n",
       "      <td>20</td>\n",
       "      <td>view</td>\n",
       "      <td>NaN</td>\n",
       "      <td>Korean</td>\n",
       "    </tr>\n",
       "    <tr>\n",
       "      <th>4</th>\n",
       "      <td>5</td>\n",
       "      <td>AI융합 부전공</td>\n",
       "      <td>AI4003-01</td>\n",
       "      <td>인공지능 경험 랩</td>\n",
       "      <td>선택</td>\n",
       "      <td>NaN</td>\n",
       "      <td>교과</td>\n",
       "      <td>김의환[64023]</td>\n",
       "      <td>학사</td>\n",
       "      <td>1/4/3</td>\n",
       "      <td>월 16:00~18:30\\n수 16:00~18:30</td>\n",
       "      <td>NaN</td>\n",
       "      <td>0</td>\n",
       "      <td>view</td>\n",
       "      <td>NaN</td>\n",
       "      <td>English</td>\n",
       "    </tr>\n",
       "  </tbody>\n",
       "</table>\n",
       "</div>"
      ],
      "text/plain": [
       "   NO      개설부서     교과목-분반                   교과목명 이수구분  세부분류 교과연구        담당교수  \\\n",
       "0   1  AI융합 부전공  AI2002-01          디지털 유니버스 콜로퀴움   필수   NaN   교과  황치옥[60934]   \n",
       "1   2  AI융합 부전공  AI3050-01        프로그래밍 언어 및 컴파일러   선택   NaN   교과  소순범[64560]   \n",
       "2   3  AI융합 부전공  AI3301-01  (MOOC 지정) 인공지능 로봇의 윤리   선택   NaN   교과  김건우[61974]   \n",
       "3   4  AI융합 부전공  AI4001-01   AI 핵심기술 기반 실무 프로젝트 2   필수   NaN   교과  공득조[62553]   \n",
       "4   5  AI융합 부전공  AI4003-01              인공지능 경험 랩   선택   NaN   교과  김의환[64023]   \n",
       "\n",
       "  과정\\n구분  강/실/학                           시간표                  강의실  수강\\n정원  \\\n",
       "0     학사  1/0/1                 목 16:00~17:00                  NaN      50   \n",
       "1     학사  3/0/3  월 16:00~17:30\\n수 16:00~17:30    전기전자컴퓨터공학부B(B201)      29   \n",
       "2     학사  3/0/3  월 09:00~10:30\\n수 09:00~10:30                  NaN      20   \n",
       "3     학사  1/4/3                 금 13:00~18:00  금호정보통신연구동(금호관)(201)      20   \n",
       "4     학사  1/4/3  월 16:00~18:30\\n수 16:00~18:30                  NaN       0   \n",
       "\n",
       "  강의\\n계획서  설명\\n영상            강의언어  \n",
       "0    view     NaN  English/Korean  \n",
       "1    view     NaN         English  \n",
       "2    view     NaN          Korean  \n",
       "3    view     NaN          Korean  \n",
       "4    view     NaN         English  "
      ]
     },
     "execution_count": 2,
     "metadata": {},
     "output_type": "execute_result"
    }
   ],
   "source": [
    "DB_path = \"./datasets/GIST24-2.csv\"\n",
    "data = pd.read_csv(DB_path)\n",
    "data.head()"
   ]
  },
  {
   "cell_type": "markdown",
   "metadata": {},
   "source": [
    "# URL 설정"
   ]
  },
  {
   "cell_type": "code",
   "execution_count": 12,
   "metadata": {},
   "outputs": [],
   "source": [
    "#main url\n",
    "url = \"http://127.0.0.1:8000/\"\n",
    "\n",
    "#course url\n",
    "course_search_url = url + \"course-search/\"\n",
    "all_course_url = url + \"course-all/\"\n",
    "add_course_url = url + \"course-add/\"\n",
    "remove_course_url = url + \"course-remove/\"\n",
    "update_course_url = url + \"course-update/\"\n",
    "\n",
    "#timetable url\n",
    "get_timetable_url = url + \"timetable/\"\n",
    "add_timetable_url = url + \"timetable/add\"\n",
    "remove_timetable_url = url + \"timetable/remove\"\n"
   ]
  },
  {
   "cell_type": "markdown",
   "metadata": {},
   "source": [
    "# 요청"
   ]
  },
  {
   "cell_type": "markdown",
   "metadata": {},
   "source": [
    "## 특정 강의 코드와 강의명으로 찾기"
   ]
  },
  {
   "cell_type": "code",
   "execution_count": 74,
   "metadata": {},
   "outputs": [
    {
     "name": "stdout",
     "output_type": "stream",
     "text": [
      "status : 200\n",
      "data : {'isExist': True, 'courses': [{'index': 12, 'lec': {'division': '생명과학부', 'code': 'BS2204-01', 'name': '기초 해부조직학', 'professor': '남정석[62330]', 'time': [[False, True, False, True, False], [True, False, False, False, False, False]]}}, {'index': 52, 'lec': {'division': '전기전자컴퓨터공학부', 'code': 'EC2204-01', 'name': '컴퓨터 구조', 'professor': '브라이언 도리얼[63478]', 'time': [[True, False, True, False, False], [False, False, False, True, False, False]]}}, {'index': 53, 'lec': {'division': '전기전자컴퓨터공학부', 'code': 'EC2204-02', 'name': '컴퓨터 구조', 'professor': '브라이언 도리얼[63478]', 'time': [[True, False, True, False, False], [False, False, False, False, True, False]]}}]}\n",
      "type: <class 'dict'>\n",
      "[{'index': 12, 'lec': {'division': '생명과학부', 'code': 'BS2204-01', 'name': '기초 해부조직학', 'professor': '남정석[62330]', 'time': [[False, True, False, True, False], [True, False, False, False, False, False]]}}, {'index': 52, 'lec': {'division': '전기전자컴퓨터공학부', 'code': 'EC2204-01', 'name': '컴퓨터 구조', 'professor': '브라이언 도리얼[63478]', 'time': [[True, False, True, False, False], [False, False, False, True, False, False]]}}, {'index': 53, 'lec': {'division': '전기전자컴퓨터공학부', 'code': 'EC2204-02', 'name': '컴퓨터 구조', 'professor': '브라이언 도리얼[63478]', 'time': [[True, False, True, False, False], [False, False, False, False, True, False]]}}]\n"
     ]
    }
   ],
   "source": [
    "def searchLecture(url : str, code : str):\n",
    "    response = requests.get(url + str(code))\n",
    "    return response\n",
    "\n",
    "response = searchLecture(course_search_url, \"2204\")\n",
    "print(f\"status : {response.status_code}\")\n",
    "print(f\"data : {json.loads(response.text)}\")\n",
    "print(f\"type: {type(json.loads(response.text))}\")\n",
    "print(json.loads(response.text)['courses'])"
   ]
  },
  {
   "cell_type": "markdown",
   "metadata": {},
   "source": [
    "## 모든 강의정보 가져오기"
   ]
  },
  {
   "cell_type": "code",
   "execution_count": 75,
   "metadata": {},
   "outputs": [
    {
     "name": "stdout",
     "output_type": "stream",
     "text": [
      "status : 200\n",
      "data : [{'division': 'AI융합 부전공', 'code': 'AI2002-01', 'name': '디지털 유니버스 콜로퀴움', 'professor': '황치옥[60934]', 'time': [[False, False, False, True, False], [False, False, False, False, False, False]]}, {'division': 'AI융합 부전공', 'code': 'AI3050-01', 'name': '프로그래밍 언어 및 컴파일러', 'professor': '소순범[64560]', 'time': [[True, False, True, False, False], [False, False, False, False, False, True]]}, {'division': 'AI융합 부전공', 'code': 'AI3301-01', 'name': '(MOOC 지정) 인공지능 로봇의 윤리', 'professor': '김건우[61974]', 'time': [[True, False, True, False, False], [True, False, False, False, False, False]]}, {'division': 'AI융합 부전공', 'code': 'AI4001-01', 'name': 'AI 핵심기술 기반 실무 프로젝트 2', 'professor': '공득조[62553]', 'time': [[False, False, False, False, True], [False, False, False, False, False, False]]}, {'division': 'AI융합 부전공', 'code': 'AI4003-01', 'name': '인공지능 경험 랩', 'professor': '김의환[64023]', 'time': [[True, False, True, False, False], [False, False, False, False, False, False]]}, {'division': 'AI융합 부전공', 'code': 'AI4021-01', 'name': '기계학습 및 딥러닝', 'professor': '김선동[64338]', 'time': [[True, False, True, False, False], [False, False, False, True, False, False]]}, {'division': 'AI융합 부전공', 'code': 'AI4450-01', 'name': '지능형 모터 융합 프로젝트', 'professor': '허필원[63766]', 'time': [[False, False, False, False, True], [False, False, False, False, False, False]]}, {'division': '생명과학부', 'code': 'BS2103-01', 'name': '생화학·분자생물학 실험', 'professor': '김영준[60665]\\n김준영[61444]\\n진석원[61956]', 'time': [[False, True, False, False, False], [False, False, False, False, False, False]]}, {'division': '생명과학부', 'code': 'BS2103-02', 'name': '생화학·분자생물학 실험', 'professor': '김영준[60665]\\n김준영[61444]\\n진석원[61956]', 'time': [[False, False, False, False, True], [False, False, False, False, False, False]]}, {'division': '생명과학부', 'code': 'BS2104-01', 'name': '생화학 I', 'professor': '박철승[01096]\\n엄수현[01123]\\n이선재[63721]', 'time': [[True, False, True, False, False], [False, True, False, False, False, False]]}, {'division': '생명과학부', 'code': 'BS2201-01', 'name': '생명과학의 정량적 이해', 'professor': '엄수현[01123]', 'time': [[False, False, False, True, False], [False, False, False, False, False, False]]}, {'division': '생명과학부', 'code': 'BS2202-01', 'name': '유전학', 'professor': '진석원[61956]', 'time': [[True, False, True, False, False], [False, False, False, True, False, False]]}, {'division': '생명과학부', 'code': 'BS2204-01', 'name': '기초 해부조직학', 'professor': '남정석[62330]', 'time': [[False, True, False, True, False], [True, False, False, False, False, False]]}, {'division': '생명과학부', 'code': 'BS2205-01', 'name': '생명정보학 개론', 'professor': '이선재[63721]', 'time': [[False, True, False, True, False], [False, True, False, False, False, False]]}, {'division': '생명과학부', 'code': 'BS3101-01', 'name': '생화학 II', 'professor': '허윤현[63163]', 'time': [[True, False, True, False, False], [False, False, False, False, False, True]]}, {'division': '생명과학부', 'code': 'BS3201-01', 'name': '미생물학', 'professor': '박대호[30565]', 'time': [[False, True, False, True, False], [True, False, False, False, False, False]]}, {'division': '생명과학부', 'code': 'BS3205-01', 'name': '환경생태학', 'professor': '김은석[61667]', 'time': [[False, True, False, True, False], [False, False, False, True, False, False]]}, {'division': '생명과학부', 'code': 'BS3208-01', 'name': '면역학', 'professor': '최진욱[64206]', 'time': [[False, True, False, True, False], [False, True, False, False, False, False]]}, {'division': '생명과학부', 'code': 'BS4217-01', 'name': '생리학 Ⅱ', 'professor': '박우진[01100]', 'time': [[False, True, False, True, False], [False, True, False, False, False, False]]}, {'division': '생명과학부', 'code': 'BS9102-01', 'name': '학사논문연구 I', 'professor': '', 'time': [[False, False, False, False, False], [False, False, False, False, False, False]]}, {'division': '생명과학부', 'code': 'BS9103-01', 'name': '학사논문연구 II', 'professor': '', 'time': [[False, False, False, False, False], [False, False, False, False, False, False]]}, {'division': '화학과', 'code': 'CH2104-01', 'name': '물리화학 B', 'professor': '방윤수[61199]', 'time': [[False, True, False, True, False], [True, False, False, False, False, False]]}, {'division': '화학과', 'code': 'CH2105-01', 'name': '화학합성실험', 'professor': '서준혁[62856]\\n정원진[61972]\\n함혜진[62758]', 'time': [[True, True, False, False, False], [False, False, False, False, False, False]]}, {'division': '화학과', 'code': 'CH2201-01', 'name': '유기화학 II', 'professor': '안진희[62296]', 'time': [[True, False, True, False, False], [False, True, False, False, False, False]]}, {'division': '화학과', 'code': 'CH2401-01', 'name': '화학전공연구 I', 'professor': '김민곤[61317]\\n김정욱[62297]\\n김현우[64144]\\n박정은[64143]\\n박진주[60957]\\n방윤수[61199]\\n서준혁[62856]\\n서지원[60955]\\n안진희[62296]\\n이강택[61665]\\n이호재[61770]\\n임현섭[63380]\\n정원진[61972]\\n한민수[62071]', 'time': [[False, False, False, False, False], [False, False, False, False, False, False]]}, {'division': '화학과', 'code': 'CH3205-01', 'name': '물리유기화학', 'professor': '한민수[62071]', 'time': [[True, False, True, False, False], [False, True, False, False, False, False]]}, {'division': '화학과', 'code': 'CH3401-01', 'name': '화학전공연구 Ⅱ', 'professor': '김민곤[61317]\\n김정욱[62297]\\n김현우[64144]\\n박정은[64143]\\n박진주[60957]\\n방윤수[61199]\\n서준혁[62856]\\n서지원[60955]\\n안진희[62296]\\n이강택[61665]\\n이호재[61770]\\n임현섭[63380]\\n정원진[61972]\\n한민수[62071]', 'time': [[False, False, False, False, False], [False, False, False, False, False, False]]}, {'division': '화학과', 'code': 'CH3402-01', 'name': '화학전공연구 III', 'professor': '김민곤[61317]\\n김정욱[62297]\\n김현우[64144]\\n박정은[64143]\\n박진주[60957]\\n방윤수[61199]\\n서준혁[62856]\\n서지원[60955]\\n안진희[62296]\\n이강택[61665]\\n이호재[61770]\\n임현섭[63380]\\n정원진[61972]\\n한민수[62071]', 'time': [[False, False, False, False, False], [False, False, False, False, False, False]]}, {'division': '화학과', 'code': 'CH4205-01', 'name': '생유기화학과 바이오의약품', 'professor': '서지원[60955]', 'time': [[False, True, False, True, False], [True, False, False, False, False, False]]}, {'division': '화학과', 'code': 'CH4208-01', 'name': '무기화학 II', 'professor': '서준혁[62856]', 'time': [[True, False, True, False, False], [False, False, False, True, False, False]]}, {'division': '화학과', 'code': 'CH4213-01', 'name': '기기분석', 'professor': '임현섭[63380]', 'time': [[True, False, True, False, False], [False, True, False, False, False, False]]}, {'division': '화학과', 'code': 'CH4219-01', 'name': '생화학 II', 'professor': '김정욱[62297]', 'time': [[True, False, True, False, False], [False, False, False, False, True, False]]}, {'division': '화학과', 'code': 'CH4220-01', 'name': '물리화학의 응용', 'professor': '이강택[61665]', 'time': [[True, False, True, False, False], [False, False, False, False, True, False]]}, {'division': '화학과', 'code': 'CH4221-01', 'name': '계산화학', 'professor': '최준호[62923]', 'time': [[True, False, True, False, False], [False, True, False, False, False, False]]}, {'division': '화학과', 'code': 'CH4222-01', 'name': '에너지 변환과 저장', 'professor': '김상륜[64069]', 'time': [[False, True, False, False, False], [False, False, False, False, False, False]]}, {'division': '화학과', 'code': 'CH9102-01', 'name': '학사논문연구 I', 'professor': '', 'time': [[False, False, False, False, False], [False, False, False, False, False, False]]}, {'division': '화학과', 'code': 'CH9103-01', 'name': '학사논문연구 II', 'professor': '', 'time': [[False, False, False, False, False], [False, False, False, False, False, False]]}, {'division': '문화기술 부전공', 'code': 'CT2502-01', 'name': '현대 예술의 이해', 'professor': '', 'time': [[True, False, True, False, False], [False, False, False, False, True, False]]}, {'division': '문화기술 부전공', 'code': 'CT2544-01', 'name': '문화콘텐츠의 이해', 'professor': '윤필상[63439]', 'time': [[True, False, True, False, False], [False, False, False, False, True, False]]}, {'division': '문화기술 부전공', 'code': 'CT2661-01', 'name': '논리학 입문', 'professor': '원치욱[62072]', 'time': [[True, False, True, False, False], [False, False, False, False, False, True]]}, {'division': '문화기술 부전공', 'code': 'CT2824-01', 'name': '문명과 수학', 'professor': '김홍종[63637]', 'time': [[False, True, False, True, False], [False, True, False, False, False, False]]}, {'division': '문화기술 부전공', 'code': 'CT4202-01', 'name': '영상 커뮤니케이션', 'professor': '송은성[63802]', 'time': [[False, True, False, True, False], [False, True, False, False, False, False]]}, {'division': '문화기술 부전공', 'code': 'CT4303-01', 'name': '게임 인공지능', 'professor': '김경중[63332]', 'time': [[True, False, True, False, False], [False, True, False, False, False, False]]}, {'division': '문화기술 부전공', 'code': 'CT4304-01', 'name': '피지컬 컴퓨팅 스튜디오', 'professor': '송은성[63802]', 'time': [[False, True, False, True, False], [True, False, False, False, False, False]]}, {'division': '문화기술 부전공', 'code': 'CT4305-01', 'name': '서비스러닝 프로젝트', 'professor': '송은성[63802]', 'time': [[True, False, True, False, False], [True, False, False, False, False, False]]}, {'division': '문화기술 부전공', 'code': 'CT4504-01', 'name': '과학계산 프로그래밍', 'professor': '황치옥[60934]', 'time': [[True, False, True, False, False], [False, False, False, False, True, False]]}, {'division': '인문학·사회과학 부전공', 'code': 'EB2724-01', 'name': '거시경제학원론', 'professor': '김상호[61574]', 'time': [[True, False, True, False, False], [False, True, False, False, False, False]]}, {'division': '인문학·사회과학 부전공', 'code': 'EB2751-01', 'name': '전략경영 I', 'professor': '진규호[62454]', 'time': [[True, False, True, False, False], [False, False, False, True, False, False]]}, {'division': '인문학·사회과학 부전공', 'code': 'EB2753-01', 'name': '기술벤처창업론', 'professor': '진규호[62454]', 'time': [[True, False, True, False, False], [False, False, False, False, False, True]]}, {'division': '인문학·사회과학 부전공', 'code': 'EB3736-01', 'name': '통일독일과 남북통일', 'professor': '김상호[61574]', 'time': [[True, False, True, False, False], [False, False, False, False, True, False]]}, {'division': '인문학·사회과학 부전공', 'code': 'EB3754-01', 'name': '사회물리학: 네트워크적 접근', 'professor': '진규호[62454]', 'time': [[True, False, True, False, False], [False, True, False, False, False, False]]}, {'division': '전기전자컴퓨터공학부', 'code': 'EC2201-01', 'name': '회로이론', 'professor': '박창수[63581]', 'time': [[True, False, True, False, False], [False, False, False, False, False, True]]}, {'division': '전기전자컴퓨터공학부', 'code': 'EC2204-01', 'name': '컴퓨터 구조', 'professor': '브라이언 도리얼[63478]', 'time': [[True, False, True, False, False], [False, False, False, True, False, False]]}, {'division': '전기전자컴퓨터공학부', 'code': 'EC2204-02', 'name': '컴퓨터 구조', 'professor': '브라이언 도리얼[63478]', 'time': [[True, False, True, False, False], [False, False, False, False, True, False]]}, {'division': '전기전자컴퓨터공학부', 'code': 'EC2205-01', 'name': '공학전자기학 II', 'professor': '송영민[62450]', 'time': [[True, False, True, False, False], [True, False, False, False, False, False]]}, {'division': '전기전자컴퓨터공학부', 'code': 'EC2206-01', 'name': '알고리즘 개론', 'professor': '수만 판데[63982]', 'time': [[True, False, True, False, False], [False, False, False, False, True, False]]}, {'division': '전기전자컴퓨터공학부', 'code': 'EC2206-02', 'name': '알고리즘 개론', 'professor': '수만 판데[63982]', 'time': [[False, True, False, True, False], [False, False, False, False, True, False]]}, {'division': '전기전자컴퓨터공학부', 'code': 'EC3101-01', 'name': '전자공학실험', 'professor': '김병돈[61433]\\n김홍국[01176]', 'time': [[False, True, False, False, False], [False, False, False, False, False, False]]}, {'division': '전기전자컴퓨터공학부', 'code': 'EC3101-02', 'name': '전자공학실험', 'professor': '김병돈[61433]\\n김홍국[01176]', 'time': [[False, True, True, False, False], [False, False, False, False, False, False]]}, {'division': '전기전자컴퓨터공학부', 'code': 'EC3101-03', 'name': '전자공학실험', 'professor': '김병돈[61433]\\n김홍국[01176]', 'time': [[False, True, False, False, True], [False, False, False, False, False, False]]}, {'division': '전기전자컴퓨터공학부', 'code': 'EC3204-01', 'name': '프로그래밍 언어 및 컴파일러', 'professor': '소순범[64560]', 'time': [[True, False, True, False, False], [False, False, False, False, False, True]]}, {'division': '전기전자컴퓨터공학부', 'code': 'EC3206-01', 'name': '반도체 재료 및 소자', 'professor': '강동호[64046]', 'time': [[True, False, True, False, False], [False, True, False, False, False, False]]}, {'division': '전기전자컴퓨터공학부', 'code': 'EC3212-01', 'name': '고급전자회로', 'professor': '이병근[60959]', 'time': [[False, True, False, True, False], [True, False, False, False, False, False]]}, {'division': '전기전자컴퓨터공학부', 'code': 'EC3215-01', 'name': '시스템 프로그래밍', 'professor': '손진희[63887]\\n오용[61946]', 'time': [[False, True, False, True, False], [False, False, False, False, True, False]]}, {'division': '전기전자컴퓨터공학부', 'code': 'EC3215-02', 'name': '시스템 프로그래밍', 'professor': '손진희[63887]\\n오용[61946]', 'time': [[False, True, False, True, False], [False, False, False, False, True, False]]}, {'division': '전기전자컴퓨터공학부', 'code': 'EC3218-01', 'name': '통신공학', 'professor': '유남열[61970]', 'time': [[True, False, True, False, False], [False, True, False, False, False, False]]}, {'division': '전기전자컴퓨터공학부', 'code': 'EC4202-01', 'name': '디지털 집적회로', 'professor': '이민재[61406]', 'time': [[False, True, False, True, False], [False, True, False, False, False, False]]}, {'division': '전기전자컴퓨터공학부', 'code': 'EC4203-01', 'name': '초고주파공학', 'professor': '김강욱[60178]', 'time': [[True, False, True, False, False], [False, False, False, False, False, True]]}, {'division': '전기전자컴퓨터공학부', 'code': 'EC4204-01', 'name': '데이터 베이스 시스템', 'professor': '수만 판데[63982]', 'time': [[True, False, True, False, False], [False, False, False, False, False, True]]}, {'division': '전기전자컴퓨터공학부', 'code': 'EC4206-01', 'name': '컴퓨터 네트워킹', 'professor': '수만 판데[63982]', 'time': [[False, True, False, True, False], [False, False, False, True, False, False]]}, {'division': '전기전자컴퓨터공학부', 'code': 'EC4207-01', 'name': '그래프 이론', 'professor': '최정옥[61376]', 'time': [[True, False, True, False, False], [False, True, False, False, False, False]]}, {'division': '전기전자컴퓨터공학부', 'code': 'EC4213-01', 'name': '기계학습 및 딥러닝', 'professor': '김선동[64338]', 'time': [[True, False, True, False, False], [False, False, False, True, False, False]]}, {'division': '전기전자컴퓨터공학부', 'code': 'EC4214-01', 'name': '광공학개론', 'professor': '정현호[63502]', 'time': [[False, True, False, True, False], [False, True, False, False, False, False]]}, {'division': '전기전자컴퓨터공학부', 'code': 'EC4221-01', 'name': '지능형 모터 융합 프로젝트', 'professor': '허필원[63766]', 'time': [[False, False, False, False, True], [False, False, False, False, False, False]]}, {'division': '전기전자컴퓨터공학부', 'code': 'EC4222-01', 'name': '양자정보기술개론', 'professor': '함병승[61674]', 'time': [[False, True, False, True, False], [True, False, False, False, False, False]]}, {'division': '전기전자컴퓨터공학부', 'code': 'EC4308-01', 'name': '반도체 공정 기초', 'professor': '강동호[64046]', 'time': [[True, False, True, False, False], [False, False, False, False, False, False]]}, {'division': '전기전자컴퓨터공학부', 'code': 'EC4312-01', 'name': '첨단 반도체 소자', 'professor': '윤훈한[64616]', 'time': [[False, True, False, True, False], [True, False, False, False, False, False]]}, {'division': '전기전자컴퓨터공학부', 'code': 'EC9102-01', 'name': '학사논문연구 I', 'professor': '', 'time': [[False, False, False, False, False], [False, False, False, False, False, False]]}, {'division': '전기전자컴퓨터공학부', 'code': 'EC9103-01', 'name': '학사논문연구 II', 'professor': '', 'time': [[False, False, False, False, False], [False, False, False, False, False, False]]}, {'division': '지구환경공학부', 'code': 'EV2209-01', 'name': '환경모니터링', 'professor': '수띠퐁 스띠아노프카오[63371]', 'time': [[False, True, False, True, False], [False, False, False, True, False, False]]}, {'division': '지구환경공학부', 'code': 'EV2210-01', 'name': '(MOOC 지정)유체역학 I', 'professor': '지솔근[62534]', 'time': [[True, False, True, False, False], [False, False, False, True, False, False]]}, {'division': '지구환경공학부', 'code': 'EV2212-01', 'name': '유전학', 'professor': '진석원[61956]', 'time': [[True, False, True, False, False], [False, False, False, True, False, False]]}, {'division': '지구환경공학부', 'code': 'EV2215-01', 'name': '환경에너지공학전공연구 II', 'professor': '박영준[62059]', 'time': [[False, False, False, False, True], [False, False, False, False, False, False]]}, {'division': '지구환경공학부', 'code': 'EV2216-01', 'name': '수화학 기초', 'professor': '이윤호[61281]', 'time': [[False, True, False, True, False], [False, True, False, False, False, False]]}, {'division': '지구환경공학부', 'code': 'EV2217-01', 'name': '물리화학 B', 'professor': '방윤수[61199]', 'time': [[False, True, False, True, False], [True, False, False, False, False, False]]}, {'division': '지구환경공학부', 'code': 'EV3106-01', 'name': '환경분석실험 I', 'professor': '신인환[62806]\\n최희철[01134]', 'time': [[False, False, False, False, True], [False, False, False, False, False, False]]}, {'division': '지구환경공학부', 'code': 'EV3111-01', 'name': '지구시스템과학', 'professor': '강창근[61944]\\n김은석[61667]\\n송철한[01185]\\n황희정[64090]', 'time': [[True, False, True, False, False], [False, True, False, False, False, False]]}, {'division': '지구환경공학부', 'code': 'EV3205-01', 'name': '환경 생태학', 'professor': '김은석[61667]', 'time': [[False, True, False, True, False], [False, False, False, True, False, False]]}, {'division': '지구환경공학부', 'code': 'EV3214-01', 'name': '생유기화학과 바이오의약품', 'professor': '서지원[60955]', 'time': [[False, True, False, True, False], [True, False, False, False, False, False]]}, {'division': '지구환경공학부', 'code': 'EV3216-01', 'name': '생화학 II', 'professor': '허윤현[63163]', 'time': [[True, False, True, False, False], [False, False, False, False, False, True]]}, {'division': '지구환경공학부', 'code': 'EV3217-01', 'name': '미생물학', 'professor': '박대호[30565]', 'time': [[False, True, False, True, False], [True, False, False, False, False, False]]}, {'division': '지구환경공학부', 'code': 'EV3219-01', 'name': '수리물리 I', 'professor': '박찬용[62936]', 'time': [[False, True, False, True, False], [True, False, False, False, False, False]]}, {'division': '지구환경공학부', 'code': 'EV4214-01', 'name': '대기화학과 기후변화 Ⅰ', 'professor': '송철한[01185]', 'time': [[False, False, True, False, False], [False, False, False, False, False, False]]}, {'division': '지구환경공학부', 'code': 'EV4223-01', 'name': '기기분석', 'professor': '임현섭[63380]', 'time': [[True, False, True, False, False], [False, True, False, False, False, False]]}, {'division': '지구환경공학부', 'code': 'EV4228-01', 'name': '환경열역학', 'professor': '박영준[62059]', 'time': [[False, True, False, True, False], [False, False, False, True, False, False]]}, {'division': '지구환경공학부', 'code': 'EV4230-01', 'name': '멤브레인 과학과 기술', 'professor': '김인수[64409]', 'time': [[False, True, False, True, False], [True, False, False, False, False, False]]}, {'division': '지구환경공학부', 'code': 'EV4235-01', 'name': '나노공학의 환경영향', 'professor': '김창우[64047]', 'time': [[True, False, True, False, False], [False, True, False, False, False, False]]}, {'division': '지구환경공학부', 'code': 'EV4236-01', 'name': '과학적 사고와 표현', 'professor': '수띠퐁 스띠아노프카오[63371]', 'time': [[True, False, True, False, False], [True, False, False, False, False, False]]}, {'division': '지구환경공학부', 'code': 'EV4240-01', 'name': '딥러닝 환경 빅데이터 적용', 'professor': '김형록[64515]', 'time': [[True, False, True, False, False], [False, True, False, False, False, False]]}, {'division': '지구환경공학부', 'code': 'EV4241-01', 'name': '에너지재료개론', 'professor': '주종훈[63948]', 'time': [[True, False, True, False, False], [True, False, False, False, False, False]]}, {'division': '지구환경공학부', 'code': 'EV4243-01', 'name': '열물질전달', 'professor': '강성봉[63235]', 'time': [[False, True, False, True, False], [False, True, False, False, False, False]]}, {'division': '지구환경공학부', 'code': 'EV9101-01', 'name': '학사논문연구', 'professor': '', 'time': [[False, False, False, False, False], [False, False, False, False, False, False]]}, {'division': '지구환경공학부', 'code': 'EV9102-01', 'name': '학사논문연구 I', 'professor': '', 'time': [[False, False, False, False, False], [False, False, False, False, False, False]]}, {'division': '지구환경공학부', 'code': 'EV9103-01', 'name': '학사논문연구 II', 'professor': '', 'time': [[False, False, False, False, False], [False, False, False, False, False, False]]}, {'division': '에너지부전공', 'code': 'FE2101-01', 'name': '에너지와 미래사회', 'professor': '김희주[62718]', 'time': [[False, False, False, True, False], [False, False, False, False, False, False]]}, {'division': '에너지부전공', 'code': 'FE2301-01', 'name': '회로이론', 'professor': '박창수[63581]', 'time': [[True, False, True, False, False], [False, False, False, False, False, True]]}, {'division': '에너지부전공', 'code': 'FE4201-01', 'name': '에너지 변환과 저장', 'professor': '김상륜[64069]', 'time': [[False, True, False, False, False], [False, False, False, False, False, False]]}, {'division': '에너지부전공', 'code': 'FE4303-01', 'name': '전력경제와 경영과학', 'professor': '김진호[62704]', 'time': [[True, False, True, False, False], [False, False, False, False, True, False]]}, {'division': '에너지부전공', 'code': 'FE4308-01', 'name': '전력변환시스템의 기초', 'professor': '박용순[62536]', 'time': [[False, True, False, True, False], [False, True, False, False, False, False]]}, {'division': '에너지부전공', 'code': 'FE4309-01', 'name': '무선전력전송', 'professor': '임춘택[62535]', 'time': [[True, False, True, False, False], [False, True, False, False, False, False]]}, {'division': '에너지부전공', 'code': 'FE4501-01', 'name': '태양전지의 이해', 'professor': '김희주[62718]', 'time': [[True, False, True, False, False], [False, False, False, True, False, False]]}, {'division': '기초교육학부', 'code': 'GS0101-01', 'name': '축구', 'professor': '서문학[61594]', 'time': [[False, True, False, False, False], [False, False, False, False, False, False]]}, {'division': '기초교육학부', 'code': 'GS0101-02', 'name': '축구', 'professor': '서문학[61594]', 'time': [[False, False, True, False, False], [False, False, False, False, False, False]]}, {'division': '기초교육학부', 'code': 'GS0102-01', 'name': '테니스', 'professor': '최명구[64546]', 'time': [[False, False, True, False, False], [False, False, False, False, False, False]]}, {'division': '기초교육학부', 'code': 'GS0102-02', 'name': '테니스', 'professor': '최명구[64546]', 'time': [[False, False, True, False, False], [False, False, False, False, False, False]]}, {'division': '기초교육학부', 'code': 'GS0103-01', 'name': '농구', 'professor': '김성훈[64541]', 'time': [[False, True, False, False, False], [False, False, False, False, False, False]]}, {'division': '기초교육학부', 'code': 'GS0103-02', 'name': '농구', 'professor': '김성훈[64541]', 'time': [[False, False, True, False, False], [False, False, False, False, False, False]]}, {'division': '기초교육학부', 'code': 'GS0104-01', 'name': '배드민턴', 'professor': '이기정[61095]', 'time': [[False, True, False, False, False], [False, False, False, False, False, False]]}, {'division': '기초교육학부', 'code': 'GS0104-02', 'name': '배드민턴', 'professor': '이기정[61095]', 'time': [[False, False, False, True, False], [False, False, False, False, False, False]]}, {'division': '기초교육학부', 'code': 'GS0104-03', 'name': '배드민턴', 'professor': '이기정[61095]', 'time': [[False, False, False, True, False], [False, False, False, False, False, False]]}, {'division': '기초교육학부', 'code': 'GS0105-01', 'name': '탁구', 'professor': '손향숙[61204]', 'time': [[False, False, False, True, False], [False, False, False, False, False, False]]}, {'division': '기초교육학부', 'code': 'GS0105-02', 'name': '탁구', 'professor': '손향숙[61204]', 'time': [[False, False, False, True, False], [False, False, False, False, False, False]]}, {'division': '기초교육학부', 'code': 'GS0106-01', 'name': '요가', 'professor': '이현화[61203]', 'time': [[False, False, True, False, False], [False, False, False, False, False, False]]}, {'division': '기초교육학부', 'code': 'GS0106-02', 'name': '요가', 'professor': '이현화[61203]', 'time': [[False, False, True, False, False], [False, False, False, False, False, False]]}, {'division': '기초교육학부', 'code': 'GS0107-01', 'name': '골프', 'professor': '박장진[62008]', 'time': [[False, False, False, True, False], [False, False, False, False, False, False]]}, {'division': '기초교육학부', 'code': 'GS0107-02', 'name': '골프', 'professor': '박장진[62008]', 'time': [[False, False, False, True, False], [False, False, False, False, False, False]]}, {'division': '기초교육학부', 'code': 'GS0108-01', 'name': '힙합댄스', 'professor': '이은지[62527]', 'time': [[True, False, False, False, False], [False, False, False, False, False, False]]}, {'division': '기초교육학부', 'code': 'GS0109-01', 'name': '태권도', 'professor': '박성준[64545]', 'time': [[False, True, False, False, False], [False, False, False, False, False, False]]}, {'division': '기초교육학부', 'code': 'GS0110-01', 'name': '헬스', 'professor': '이종신[64548]', 'time': [[False, False, False, True, False], [False, False, False, False, False, False]]}, {'division': '기초교육학부', 'code': 'GS0112-01', 'name': '수영', 'professor': '김영민[61593]', 'time': [[False, False, False, True, False], [False, False, False, False, False, False]]}, {'division': '기초교육학부', 'code': 'GS0112-02', 'name': '수영', 'professor': '김영민[61593]', 'time': [[False, False, False, True, False], [False, False, False, False, False, False]]}, {'division': '기초교육학부', 'code': 'GS0113-01', 'name': '볼링', 'professor': '조상용[62102]', 'time': [[False, True, False, False, False], [False, False, False, False, False, False]]}, {'division': '기초교육학부', 'code': 'GS0113-02', 'name': '볼링', 'professor': '조상용[62102]', 'time': [[False, False, False, True, False], [False, False, False, False, False, False]]}, {'division': '기초교육학부', 'code': 'GS0114-01', 'name': '야구', 'professor': '정경운[62208]', 'time': [[False, False, False, True, False], [False, False, False, False, False, False]]}, {'division': '기초교육학부', 'code': 'GS0115-01', 'name': '암벽등반', 'professor': '조계주[63818]', 'time': [[False, True, False, False, False], [False, False, False, False, False, False]]}, {'division': '기초교육학부', 'code': 'GS0201-01', 'name': '피아노', 'professor': '박상희[64547]', 'time': [[False, True, False, False, False], [False, False, False, False, False, False]]}, {'division': '기초교육학부', 'code': 'GS0201-02', 'name': '피아노', 'professor': '박상희[64547]', 'time': [[False, True, False, False, False], [False, False, False, False, False, False]]}, {'division': '기초교육학부', 'code': 'GS0201-03', 'name': '피아노', 'professor': '박상희[64547]', 'time': [[False, False, True, False, False], [False, False, False, False, False, False]]}, {'division': '기초교육학부', 'code': 'GS0202-01', 'name': '플룻', 'professor': '김보라[61021]', 'time': [[True, False, False, False, False], [False, False, False, False, False, False]]}, {'division': '기초교육학부', 'code': 'GS0203-01', 'name': '바이올린', 'professor': '', 'time': [[True, False, False, False, False], [False, False, False, False, False, False]]}, {'division': '기초교육학부', 'code': 'GS0204-01', 'name': '첼로', 'professor': '양윤선[61591]', 'time': [[False, False, True, False, False], [False, False, False, False, False, False]]}, {'division': '기초교육학부', 'code': 'GS0205-01', 'name': '클라리넷', 'professor': '임지연[64544]', 'time': [[True, False, False, False, False], [False, False, False, False, False, False]]}, {'division': '기초교육학부', 'code': 'GS0206-01', 'name': '어쿠스틱기타', 'professor': '한재영[61094]', 'time': [[True, False, False, False, False], [False, False, False, False, False, False]]}, {'division': '기초교육학부', 'code': 'GS0206-02', 'name': '어쿠스틱기타', 'professor': '한재영[61094]', 'time': [[True, False, False, False, False], [False, False, False, False, False, False]]}, {'division': '기초교육학부', 'code': 'GS0206-03', 'name': '어쿠스틱기타', 'professor': '한재영[61094]', 'time': [[False, True, False, False, False], [False, False, False, False, False, False]]}, {'division': '기초교육학부', 'code': 'GS0207-01', 'name': '일렉기타', 'professor': '김귀훈[64543]', 'time': [[False, False, False, True, False], [False, False, False, False, False, False]]}, {'division': '기초교육학부', 'code': 'GS0207-02', 'name': '일렉기타', 'professor': '김귀훈[64543]', 'time': [[False, False, False, True, False], [False, False, False, False, False, False]]}, {'division': '기초교육학부', 'code': 'GS0208-01', 'name': '베이스기타', 'professor': '이재형[63441]', 'time': [[False, True, False, False, False], [False, False, False, False, False, False]]}, {'division': '기초교육학부', 'code': 'GS0209-01', 'name': '드럼', 'professor': '강기호[64553]', 'time': [[False, False, True, False, False], [False, False, False, False, False, False]]}, {'division': '기초교육학부', 'code': 'GS0209-02', 'name': '드럼', 'professor': '강기호[64553]', 'time': [[False, False, True, False, False], [False, False, False, False, False, False]]}, {'division': '기초교육학부', 'code': 'GS0210-01', 'name': '보컬', 'professor': '장진형[61372]', 'time': [[False, True, False, False, False], [False, False, False, False, False, False]]}, {'division': '기초교육학부', 'code': 'GS0210-02', 'name': '보컬', 'professor': '장진형[61372]', 'time': [[False, True, False, False, False], [False, False, False, False, False, False]]}, {'division': '기초교육학부', 'code': 'GS0211-01', 'name': '드로잉', 'professor': '홍원석[63320]', 'time': [[False, True, False, False, False], [False, False, False, False, False, False]]}, {'division': '기초교육학부', 'code': 'GS0211-02', 'name': '드로잉', 'professor': '홍원석[63320]', 'time': [[False, False, True, False, False], [False, False, False, False, False, False]]}, {'division': '기초교육학부', 'code': 'GS0211-03', 'name': '드로잉', 'professor': '홍원석[63320]', 'time': [[False, False, True, False, False], [False, False, False, False, False, False]]}, {'division': '기초교육학부', 'code': 'GS0213-01', 'name': '컴퓨터 음악 만들기', 'professor': '이재형[63441]', 'time': [[False, False, True, False, False], [False, False, False, False, False, False]]}, {'division': '기초교육학부', 'code': 'GS0213-02', 'name': '컴퓨터 음악 만들기', 'professor': '이재형[63441]', 'time': [[False, False, True, False, False], [False, False, False, False, False, False]]}, {'division': '기초교육학부', 'code': 'GS1001-01', 'name': '미적분학과 응용', 'professor': '김재길[62813]\\n유현주[61585]', 'time': [[True, False, True, False, True], [True, False, False, False, False, False]]}, {'division': '기초교육학부', 'code': 'GS1102-01', 'name': '일반물리학 및 연습 Ⅱ', 'professor': '박찬용[62936]', 'time': [[True, False, True, False, False], [False, True, False, False, False, False]]}, {'division': '기초교육학부', 'code': 'GS1102-02', 'name': '일반물리학 및 연습 Ⅱ', 'professor': '박찬용[62936]', 'time': [[True, False, True, False, False], [False, False, False, True, False, False]]}, {'division': '기초교육학부', 'code': 'GS1102-03', 'name': '일반물리학 및 연습 Ⅱ', 'professor': '양현석[63524]', 'time': [[False, True, False, True, False], [False, True, False, False, False, False]]}, {'division': '기초교육학부', 'code': 'GS1102-04', 'name': '일반물리학 및 연습 Ⅱ', 'professor': '양현석[63524]', 'time': [[False, True, False, True, False], [False, False, False, False, True, False]]}, {'division': '기초교육학부', 'code': 'GS1104-01', 'name': '고급일반물리학 및 연습 Ⅱ', 'professor': '유운종[60956]', 'time': [[True, False, True, False, False], [False, True, False, False, False, False]]}, {'division': '기초교육학부', 'code': 'GS1112-01', 'name': '일반물리학 실험 Ⅱ', 'professor': '김근영[61666]\\n이승우[63473]', 'time': [[False, False, False, True, False], [False, False, False, False, False, False]]}, {'division': '기초교육학부', 'code': 'GS1112-02', 'name': '일반물리학 실험 Ⅱ', 'professor': '김근영[61666]\\n이승우[63473]', 'time': [[False, False, False, False, True], [False, False, False, False, False, False]]}, {'division': '기초교육학부', 'code': 'GS1201-01', 'name': '일반화학 및 연습 I', 'professor': '최준호[62923]', 'time': [[False, True, False, True, False], [True, False, False, False, False, False]]}, {'division': '기초교육학부', 'code': 'GS1202-01', 'name': '일반화학 및 연습 Ⅱ', 'professor': '리자오지에[62164]', 'time': [[False, True, False, True, False], [False, True, False, False, False, False]]}, {'division': '기초교육학부', 'code': 'GS1202-02', 'name': '일반화학 및 연습 Ⅱ', 'professor': '리자오지에[62164]', 'time': [[False, True, False, True, False], [False, False, False, True, False, False]]}, {'division': '기초교육학부', 'code': 'GS1202-03', 'name': '일반화학 및 연습 Ⅱ', 'professor': '리자오지에[62164]', 'time': [[False, True, False, True, False], [True, False, False, False, False, False]]}, {'division': '기초교육학부', 'code': 'GS1211-01', 'name': '일반화학실험 Ⅰ', 'professor': '서준혁[62856]\\n조춘실[61321]', 'time': [[False, True, False, False, False], [False, False, False, False, False, False]]}, {'division': '기초교육학부', 'code': 'GS1211-02', 'name': '일반화학실험 Ⅰ', 'professor': '서준혁[62856]\\n조춘실[61321]', 'time': [[False, True, False, False, False], [False, False, False, False, False, False]]}, {'division': '기초교육학부', 'code': 'GS1211-03', 'name': '일반화학실험 Ⅰ', 'professor': '리자오지에[62164]\\n조춘실[61321]', 'time': [[False, False, True, False, False], [False, False, False, False, False, False]]}, {'division': '기초교육학부', 'code': 'GS1211-04', 'name': '일반화학실험 Ⅰ', 'professor': '리자오지에[62164]\\n조춘실[61321]', 'time': [[False, False, True, False, False], [False, False, False, False, False, False]]}, {'division': '기초교육학부', 'code': 'GS1212-01', 'name': '일반화학실험 Ⅱ', 'professor': '서준혁[62856]\\n조춘실[61321]', 'time': [[False, False, False, False, True], [False, False, False, False, False, False]]}, {'division': '기초교육학부', 'code': 'GS1301-01', 'name': '생물학', 'professor': '허윤현[63163]', 'time': [[False, True, False, True, False], [False, True, False, False, False, False]]}, {'division': '기초교육학부', 'code': 'GS1301-02', 'name': '생물학', 'professor': '허윤현[63163]', 'time': [[False, True, False, True, False], [False, False, False, True, False, False]]}, {'division': '기초교육학부', 'code': 'GS1302-01', 'name': '인간 생물학', 'professor': '허윤현[63163]', 'time': [[True, False, True, False, False], [False, False, False, True, False, False]]}, {'division': '기초교육학부', 'code': 'GS1304-01', 'name': '현대 생명과학의 이해', 'professor': '조경래[61123]', 'time': [[False, False, False, True, False], [False, False, False, False, True, False]]}, {'division': '기초교육학부', 'code': 'GS1311-01', 'name': '일반생물학 실험', 'professor': '김영준[60665]\\n김한아[61443]\\n진석원[61956]', 'time': [[False, True, False, False, False], [False, False, False, False, False, False]]}, {'division': '기초교육학부', 'code': 'GS1311-02', 'name': '일반생물학 실험', 'professor': '김영준[60665]\\n김한아[61443]\\n진석원[61956]', 'time': [[False, False, True, False, False], [False, False, False, False, False, False]]}, {'division': '기초교육학부', 'code': 'GS1311-03', 'name': '일반생물학 실험', 'professor': '김영준[60665]\\n김한아[61443]\\n진석원[61956]', 'time': [[False, False, False, False, True], [False, False, False, False, False, False]]}, {'division': '기초교육학부', 'code': 'GS1311-04', 'name': '일반생물학 실험', 'professor': '김영준[60665]\\n김한아[61443]\\n진석원[61956]', 'time': [[False, False, False, False, True], [False, False, False, False, False, False]]}, {'division': '기초교육학부', 'code': 'GS1322-01', 'name': '생명과학속 이야기들', 'professor': '유영준[63852]', 'time': [[True, False, True, False, False], [False, True, False, False, False, False]]}, {'division': '기초교육학부', 'code': 'GS1401-01', 'name': '컴퓨터 프로그래밍', 'professor': '브라이언 도리얼[63478]\\n오용[61946]', 'time': [[True, False, True, False, True], [False, True, False, False, False, False]]}, {'division': '기초교육학부', 'code': 'GS1401-02', 'name': '컴퓨터 프로그래밍', 'professor': '브라이언 도리얼[63478]\\n오용[61946]', 'time': [[True, False, True, False, True], [False, True, False, False, False, False]]}, {'division': '기초교육학부', 'code': 'GS1401-03', 'name': '컴퓨터 프로그래밍', 'professor': '브라이언 도리얼[63478]\\n오용[61946]', 'time': [[True, False, True, False, True], [False, True, False, False, False, False]]}, {'division': '기초교육학부', 'code': 'GS1401-04', 'name': '컴퓨터 프로그래밍', 'professor': '브라이언 도리얼[63478]\\n오용[61946]', 'time': [[False, True, False, True, True], [False, True, False, False, False, False]]}, {'division': '기초교육학부', 'code': 'GS1401-05', 'name': '컴퓨터 프로그래밍', 'professor': '브라이언 도리얼[63478]\\n오용[61946]', 'time': [[False, True, False, True, True], [False, True, False, False, False, False]]}, {'division': '기초교육학부', 'code': 'GS1401-06', 'name': '컴퓨터 프로그래밍', 'professor': '브라이언 도리얼[63478]\\n오용[61946]', 'time': [[False, True, False, True, True], [False, True, False, False, False, False]]}, {'division': '기계공학부', 'code': 'GS1432-01', 'name': '기계로봇공학개론', 'professor': '이재욱[62604]', 'time': [[True, False, True, False, False], [False, False, False, False, False, False]]}, {'division': '기초교육학부', 'code': 'GS1451-01', 'name': '소재와 미래과학기술', 'professor': '김봉중[30656]', 'time': [[True, False, False, False, False], [False, False, False, False, False, True]]}, {'division': '기초교육학부', 'code': 'GS1491-01', 'name': 'SW코딩과 AI활용', 'professor': '김희숙[62932]', 'time': [[False, True, False, False, False], [False, False, False, False, False, False]]}, {'division': '기초교육학부', 'code': 'GS1491-02', 'name': 'SW코딩과 AI활용', 'professor': '김희숙[62932]', 'time': [[False, False, False, True, False], [False, False, False, False, False, False]]}, {'division': '기초교육학부', 'code': 'GS1492-01', 'name': '(MOOC 지정) 문제해결을 위한 컴퓨터 사고', 'professor': '박건혁[63254]', 'time': [[False, False, False, False, False], [False, False, False, False, False, False]]}, {'division': '기초교육학부', 'code': 'GS1496-01', 'name': '(MOOC 지정) 기계학습을 위한 수학: 선형대수학', 'professor': '박건혁[63254]', 'time': [[False, False, False, False, False], [False, False, False, False, False, False]]}, {'division': '기초교육학부', 'code': 'GS1497-01', 'name': '(MOOC 지정)기계학습을 위한 수학: PCA', 'professor': '박건혁[63254]', 'time': [[False, False, False, False, False], [False, False, False, False, False, False]]}, {'division': '기초교육학부', 'code': 'GS1498-01', 'name': '(MOOC 지정)기계학습을 위한 수학: 다변량 미적분학', 'professor': '박건혁[63254]', 'time': [[False, False, False, False, False], [False, False, False, False, False, False]]}, {'division': '기초교육학부', 'code': 'GS1499-01', 'name': '(MOOC 지정) 파이썬 기초', 'professor': '박건혁[63254]', 'time': [[False, False, False, False, False], [False, False, False, False, False, False]]}, {'division': '기초교육학부', 'code': 'GS1512-01', 'name': '글쓰기의 기초: 학술적 글쓰기', 'professor': '최서윤[63820]', 'time': [[False, True, False, True, False], [False, True, False, False, False, False]]}, {'division': '기초교육학부', 'code': 'GS1512-02', 'name': '글쓰기의 기초: 학술적 글쓰기', 'professor': '최서윤[63820]', 'time': [[False, True, False, True, False], [False, False, False, True, False, False]]}, {'division': '기초교육학부', 'code': 'GS1512-03', 'name': '글쓰기의 기초: 학술적 글쓰기', 'professor': '최서윤[63820]', 'time': [[False, True, False, True, False], [False, False, False, False, True, False]]}, {'division': '기초교육학부', 'code': 'GS1532-01', 'name': '심화 글쓰기: 고전 읽기와 글쓰기', 'professor': '최서윤[63820]', 'time': [[True, False, True, False, False], [False, False, False, False, False, True]]}, {'division': '기초교육학부', 'code': 'GS1606-01', 'name': '과학 기사 읽기', 'professor': '데이비드 스튜어트 윌스[64278]', 'time': [[True, False, True, False, False], [False, False, False, True, False, False]]}, {'division': '기초교육학부', 'code': 'GS1607-01', 'name': '학술영어', 'professor': '데이비드 스튜어트 윌스[64278]', 'time': [[True, False, True, False, False], [True, False, False, False, False, False]]}, {'division': '기초교육학부', 'code': 'GS1607-02', 'name': '학술영어', 'professor': '리스 존 랜달[64277]', 'time': [[True, False, True, False, False], [True, False, False, False, False, False]]}, {'division': '기초교육학부', 'code': 'GS1607-03', 'name': '학술영어', 'professor': '레베카 배[62607]', 'time': [[True, False, True, False, False], [False, True, False, False, False, False]]}, {'division': '기초교육학부', 'code': 'GS1607-04', 'name': '학술영어', 'professor': '리스 존 랜달[64277]', 'time': [[True, False, True, False, False], [False, False, False, False, True, False]]}, {'division': '기초교육학부', 'code': 'GS1902-01', 'name': '기초 한국어', 'professor': '심선향[64511]', 'time': [[True, False, True, False, False], [False, True, False, False, False, False]]}, {'division': '기초교육학부', 'code': 'GS1902-02', 'name': '기초 한국어', 'professor': '심선향[64511]', 'time': [[True, False, True, False, False], [False, False, False, True, False, False]]}, {'division': '기초교육학부', 'code': 'GS1902-03', 'name': '기초 한국어', 'professor': '심선향[64511]', 'time': [[False, True, False, True, False], [False, False, False, True, False, False]]}, {'division': '기초교육학부', 'code': 'GS1905-01', 'name': '중급 한국어', 'professor': '이선하[63991]', 'time': [[False, True, False, True, False], [False, False, False, False, True, False]]}, {'division': '기초교육학부', 'code': 'GS2001-01', 'name': '다변수해석학과 응용', 'professor': '강현석[61973]\\n유현주[61585]', 'time': [[False, True, False, True, False], [False, True, False, False, False, False]]}, {'division': '기초교육학부', 'code': 'GS2001-02', 'name': '다변수해석학과 응용', 'professor': '강현석[61973]\\n유현주[61585]', 'time': [[False, True, False, True, False], [False, False, False, True, False, False]]}, {'division': '기초교육학부', 'code': 'GS2001-03', 'name': '다변수해석학과 응용', 'professor': '김민기[64123]\\n유현주[61585]', 'time': [[False, True, True, True, False], [False, False, False, True, False, False]]}, {'division': '기초교육학부', 'code': 'GS2001-04', 'name': '다변수해석학과 응용', 'professor': '김민기[64123]\\n유현주[61585]', 'time': [[False, True, True, True, False], [False, False, False, False, True, False]]}, {'division': '기초교육학부', 'code': 'GS2001-05', 'name': '다변수해석학과 응용', 'professor': '송정민[61101]\\n유현주[61585]', 'time': [[True, True, False, True, False], [False, True, False, False, False, False]]}, {'division': '기초교육학부', 'code': 'GS2001-06', 'name': '다변수해석학과 응용', 'professor': '유현주[61585]\\n최정옥[61376]', 'time': [[True, True, True, False, False], [False, False, False, True, False, False]]}, {'division': '기초교육학부', 'code': 'GS2002-01', 'name': '미분방정식과 응용', 'professor': '송정민[61101]\\n유현주[61585]', 'time': [[True, False, True, False, False], [True, False, False, False, False, False]]}, {'division': '기초교육학부', 'code': 'GS2002-02', 'name': '미분방정식과 응용', 'professor': '유현주[61585]\\n황치옥[60934]', 'time': [[True, True, True, False, False], [False, True, False, False, False, False]]}, {'division': '기초교육학부', 'code': 'GS2004-01', 'name': '선형대수학과 응용', 'professor': '김재길[62813]\\n유현주[61585]', 'time': [[True, False, True, False, True], [False, False, False, False, True, False]]}, {'division': '기초교육학부', 'code': 'GS2004-02', 'name': '선형대수학과 응용', 'professor': '김재길[62813]\\n유현주[61585]', 'time': [[True, False, True, False, True], [False, False, False, True, False, False]]}, {'division': '기초교육학부', 'code': 'GS2004-03', 'name': '선형대수학과 응용', 'professor': '유현주[61585]\\n황치옥[60934]', 'time': [[True, False, True, False, True], [True, False, False, False, False, False]]}, {'division': '기초교육학부', 'code': 'GS2409-01', 'name': '(MOOC 지정)풀스택 자바스크립트', 'professor': '수만 판데[63982]', 'time': [[False, False, False, False, False], [False, False, False, False, False, False]]}, {'division': '기초교육학부', 'code': 'GS2420-01', 'name': '(MOOC 지정) 알고리즘 기반 논리적 사고 - 기초', 'professor': '박건혁[63254]', 'time': [[False, False, False, False, False], [False, False, False, False, False, False]]}, {'division': '기초교육학부', 'code': 'GS2421-01', 'name': '(MOOC 지정) 알고리즘 기반 논리적 사고 - 심화', 'professor': '박건혁[63254]', 'time': [[False, False, False, False, False], [False, False, False, False, False, False]]}, {'division': '기초교육학부', 'code': 'GS2422-01', 'name': '(MOOC지정) 기계학습: 예측 및 분류', 'professor': '박건혁[63254]', 'time': [[False, False, False, False, False], [False, False, False, False, False, False]]}, {'division': '기초교육학부', 'code': 'GS2473-01', 'name': '환경에너지공학개론', 'professor': '박영준[62059]', 'time': [[False, False, True, False, False], [False, False, False, False, False, True]]}, {'division': '기초교육학부', 'code': 'GS2474-01', 'name': '지속가능한 발전의 시대', 'professor': '수띠퐁 스띠아노프카오[63371]', 'time': [[False, True, False, True, False], [True, False, False, False, False, False]]}, {'division': '기초교육학부', 'code': 'GS2475-01', 'name': '환경오염', 'professor': '수띠퐁 스띠아노프카오[63371]', 'time': [[True, False, True, False, False], [False, False, False, True, False, False]]}, {'division': '기초교육학부', 'code': 'GS2476-01', 'name': '탄소중립과 에너지기술개론', 'professor': '문승현[64154]', 'time': [[True, False, False, False, False], [False, False, False, False, False, False]]}, {'division': '기초교육학부', 'code': 'GS2506-01', 'name': '한국현대시인론', 'professor': '이수정[61779]', 'time': [[True, False, True, False, False], [True, False, False, False, False, False]]}, {'division': '기초교육학부', 'code': 'GS2511-01', 'name': '현대시 읽기', 'professor': '이수정[61779]', 'time': [[True, False, True, False, False], [False, True, False, False, False, False]]}, {'division': '기초교육학부', 'code': 'GS2523-01', 'name': '영어단편소설읽기', 'professor': '이시연[60939]', 'time': [[False, True, False, True, False], [False, True, False, False, False, False]]}, {'division': '기초교육학부', 'code': 'GS2525-01', 'name': '근대의 모험: 서구근대문학의 이해 Ⅱ', 'professor': '이시연[60939]', 'time': [[False, True, False, True, False], [True, False, False, False, False, False]]}, {'division': '기초교육학부', 'code': 'GS2541-01', 'name': '서양음악의 이해', 'professor': '오명희[64554]', 'time': [[False, True, False, True, False], [False, False, False, True, False, False]]}, {'division': '기초교육학부', 'code': 'GS2543-01', 'name': '현대 예술의 이해', 'professor': '', 'time': [[True, False, True, False, False], [False, False, False, False, True, False]]}, {'division': '기초교육학부', 'code': 'GS2544-01', 'name': '문화콘텐츠의 이해', 'professor': '윤필상[63439]', 'time': [[True, False, True, False, False], [False, False, False, False, True, False]]}, {'division': '기초교육학부', 'code': 'GS2582-01', 'name': '한글의 역사', 'professor': '이선하[63991]', 'time': [[False, True, False, True, False], [False, False, False, True, False, False]]}, {'division': '기초교육학부', 'code': 'GS2602-01', 'name': '한국사의 이해', 'professor': '신진혜[64024]', 'time': [[False, True, False, True, False], [False, True, False, False, False, False]]}, {'division': '기초교육학부', 'code': 'GS2613-01', 'name': '현대서양의 형성과 전개', 'professor': '김동혁[62921]', 'time': [[True, False, True, False, False], [False, True, False, False, False, False]]}, {'division': '기초교육학부', 'code': 'GS2616-01', 'name': '장기 19세기 서양 역사', 'professor': '김동혁[62921]', 'time': [[True, False, True, False, False], [True, False, False, False, False, False]]}, {'division': '기초교육학부', 'code': 'GS2618-01', 'name': '중동부 유럽 및 러시아의 역사', 'professor': '김동혁[62921]', 'time': [[True, False, True, False, False], [False, False, False, False, True, False]]}, {'division': '기초교육학부', 'code': 'GS2620-01', 'name': '철학의 근본 문제들', 'professor': '원치욱[62072]', 'time': [[True, False, True, False, False], [False, True, False, False, False, False]]}, {'division': '기초교육학부', 'code': 'GS2652-01', 'name': '영어 II : 이공계 글쓰기 입문', 'professor': '제프리 발드윈[62912]', 'time': [[True, False, True, False, False], [True, False, False, False, False, False]]}, {'division': '기초교육학부', 'code': 'GS2652-02', 'name': '영어 II : 이공계 글쓰기 입문', 'professor': '레베카 배[62607]', 'time': [[False, True, False, True, False], [True, False, False, False, False, False]]}, {'division': '기초교육학부', 'code': 'GS2652-03', 'name': '영어 II : 이공계 글쓰기 입문', 'professor': '토마스 터너[62846]', 'time': [[True, False, True, False, False], [False, True, False, False, False, False]]}, {'division': '기초교육학부', 'code': 'GS2652-04', 'name': '영어 II : 이공계 글쓰기 입문', 'professor': '레베카 배[62607]', 'time': [[False, True, False, True, False], [False, True, False, False, False, False]]}, {'division': '기초교육학부', 'code': 'GS2652-05', 'name': '영어 II : 이공계 글쓰기 입문', 'professor': '리스 존 랜달[64277]', 'time': [[False, True, False, True, False], [False, True, False, False, False, False]]}, {'division': '기초교육학부', 'code': 'GS2652-06', 'name': '영어 II : 이공계 글쓰기 입문', 'professor': '존 윌스[62914]', 'time': [[False, True, False, True, False], [False, False, False, True, False, False]]}, {'division': '기초교육학부', 'code': 'GS2652-07', 'name': '영어 II : 이공계 글쓰기 입문', 'professor': '토마스 터너[62846]', 'time': [[True, False, True, False, False], [False, False, False, True, False, False]]}, {'division': '기초교육학부', 'code': 'GS2652-08', 'name': '영어 II : 이공계 글쓰기 입문', 'professor': '데이비드[62004]', 'time': [[True, False, True, False, False], [False, False, False, False, True, False]]}, {'division': '기초교육학부', 'code': 'GS2652-09', 'name': '영어 II : 이공계 글쓰기 입문', 'professor': '제프리 발드윈[62912]', 'time': [[False, True, False, True, False], [True, False, False, False, False, False]]}, {'division': '기초교육학부', 'code': 'GS2653-01', 'name': '연구 윤리의 이해와 토론', 'professor': '엘리스 리[61457]', 'time': [[True, False, True, False, False], [False, True, False, False, False, False]]}, {'division': '기초교육학부', 'code': 'GS2661-01', 'name': '논리학 입문', 'professor': '원치욱[62072]', 'time': [[True, False, True, False, False], [False, False, False, False, False, True]]}, {'division': '기초교육학부', 'code': 'GS2724-01', 'name': '거시경제학원론', 'professor': '김상호[61574]', 'time': [[True, False, True, False, False], [False, True, False, False, False, False]]}, {'division': '기초교육학부', 'code': 'GS2743-01', 'name': '인간의 마음과 행동 2', 'professor': '최원일[62488]', 'time': [[True, False, True, False, False], [True, False, False, False, False, False]]}, {'division': '기초교육학부', 'code': 'GS2748-01', 'name': '언어와 마음: 언어심리학적 접근', 'professor': '최원일[62488]', 'time': [[True, False, True, False, False], [False, False, False, False, False, True]]}, {'division': '기초교육학부', 'code': 'GS2751-01', 'name': '전략경영 I', 'professor': '진규호[62454]', 'time': [[True, False, True, False, False], [False, False, False, True, False, False]]}, {'division': '기초교육학부', 'code': 'GS2753-01', 'name': '기술벤처창업론', 'professor': '진규호[62454]', 'time': [[True, False, True, False, False], [False, False, False, False, False, True]]}, {'division': '기초교육학부', 'code': 'GS2763-01', 'name': '현대법학의 이해', 'professor': '김건우[61974]', 'time': [[True, False, True, False, False], [False, True, False, False, False, False]]}, {'division': '기초교육학부', 'code': 'GS2765-01', 'name': '헌법과 국가', 'professor': '김건우[61974]', 'time': [[False, True, False, True, False], [False, True, False, False, False, False]]}, {'division': '기초교육학부', 'code': 'GS2788-01', 'name': '민주주의론', 'professor': '김혜림[64283]', 'time': [[False, True, False, True, False], [False, False, False, False, True, False]]}, {'division': '기초교육학부', 'code': 'GS2789-01', 'name': '안보와 무기체계', 'professor': '김혜림[64283]', 'time': [[False, True, False, True, False], [False, False, False, True, False, False]]}, {'division': '기초교육학부', 'code': 'GS2794-01', 'name': '현대사회사상의 흐름', 'professor': '박명규[63823]', 'time': [[True, False, True, False, False], [False, False, False, False, True, False]]}, {'division': '기초교육학부', 'code': 'GS2795-01', 'name': '문명으로 보는 21세기', 'professor': '박명규[63823]', 'time': [[True, False, True, False, False], [False, True, False, False, False, False]]}, {'division': '기초교육학부', 'code': 'GS2824-01', 'name': '문명과 수학', 'professor': '김홍종[63637]', 'time': [[False, True, False, True, False], [False, True, False, False, False, False]]}, {'division': '기초교육학부', 'code': 'GS2825-01', 'name': '연구자 되기', 'professor': '김태영[61668]', 'time': [[True, False, True, False, False], [False, False, False, False, True, False]]}, {'division': '기초교육학부', 'code': 'GS2835-01', 'name': '인간과 식물', 'professor': '김은석[61667]', 'time': [[True, False, True, False, False], [False, False, False, False, False, True]]}, {'division': '기초교육학부', 'code': 'GS2932-01', 'name': '독일어 2', 'professor': '정영희[64549]', 'time': [[False, False, False, False, True], [False, False, False, False, False, False]]}, {'division': '기초교육학부', 'code': 'GS2934-01', 'name': '환경모니터링', 'professor': '수띠퐁 스띠아노프카오[63371]', 'time': [[False, True, False, True, False], [False, False, False, True, False, False]]}, {'division': '기초교육학부', 'code': 'GS3016-01', 'name': '푸리에 해석학', 'professor': '김홍종[63637]', 'time': [[False, True, False, True, False], [True, False, False, False, False, False]]}, {'division': '기초교육학부', 'code': 'GS3401-01', 'name': '(MOOC 지정) 프론트엔드 웹 개발', 'professor': '브라이언 도리얼[63478]', 'time': [[False, False, False, False, False], [False, False, False, False, False, False]]}, {'division': '기초교육학부', 'code': 'GS3502-01', 'name': '시창작 특강', 'professor': '이수정[61779]', 'time': [[False, True, False, True, False], [False, True, False, False, False, False]]}, {'division': '기초교육학부', 'code': 'GS3507-01', 'name': '콘텐츠 기획과 제작', 'professor': '윤필상[63439]', 'time': [[True, False, True, False, False], [False, False, False, False, False, True]]}, {'division': '기초교육학부', 'code': 'GS3602-01', 'name': '역사학특강', 'professor': '신진혜[64024]', 'time': [[True, False, True, False, False], [False, False, False, False, True, False]]}, {'division': '기초교육학부', 'code': 'GS3605-01', 'name': '조선시대 의례사', 'professor': '신진혜[64024]', 'time': [[True, False, True, False, False], [False, False, False, True, False, False]]}, {'division': '기초교육학부', 'code': 'GS3631-01', 'name': '마음과 컴퓨터', 'professor': '원치욱[62072]', 'time': [[True, False, True, False, False], [False, False, False, False, True, False]]}, {'division': '기초교육학부', 'code': 'GS3651-01', 'name': '영어 III. 이공계 논문쓰기', 'professor': '엘리스 리[61457]', 'time': [[False, True, False, True, False], [False, False, False, True, False, False]]}, {'division': '기초교육학부', 'code': 'GS3736-01', 'name': '통일독일과 남북통일', 'professor': '김상호[61574]', 'time': [[True, False, True, False, False], [False, False, False, False, True, False]]}, {'division': '기초교육학부', 'code': 'GS3754-01', 'name': '사회물리학: 네트워크적 접근', 'professor': '진규호[62454]', 'time': [[True, False, True, False, False], [False, True, False, False, False, False]]}, {'division': '기초교육학부', 'code': 'GS3764-01', 'name': '뇌와 인지', 'professor': '최원일[62488]', 'time': [[True, False, True, False, False], [False, False, False, True, False, False]]}, {'division': '기초교육학부', 'code': 'GS3767-01', 'name': '(MOOC 지정) 인공지능 로봇의 윤리', 'professor': '김건우[61974]', 'time': [[True, False, True, False, False], [True, False, False, False, False, False]]}, {'division': '기초교육학부', 'code': 'GS3831-01', 'name': '과학기술학의 이해: 과학사회논쟁의 쟁점과 윤리', 'professor': '하대청[62922]', 'time': [[True, False, True, False, False], [False, False, False, True, False, False]]}, {'division': '기초교육학부', 'code': 'GS3839-01', 'name': '질병과 사회', 'professor': '하대청[62922]', 'time': [[True, False, True, False, False], [False, False, False, False, True, False]]}, {'division': '기초교육학부', 'code': 'GS4005-01', 'name': '과학계산 프로그래밍', 'professor': '황치옥[60934]', 'time': [[True, False, True, False, False], [False, False, False, False, True, False]]}, {'division': '기초교육학부', 'code': 'GS4006-01', 'name': '정수론과 응용', 'professor': '송정민[61101]', 'time': [[True, False, True, False, False], [False, False, False, False, True, False]]}, {'division': '기초교육학부', 'code': 'GS4007-01', 'name': '기하학 I', 'professor': '강현석[61973]', 'time': [[False, True, False, True, False], [False, False, False, False, True, False]]}, {'division': '기초교육학부', 'code': 'GS4009-01', 'name': '그래프 이론', 'professor': '최정옥[61376]', 'time': [[True, False, True, False, False], [False, True, False, False, False, False]]}, {'division': '기초교육학부', 'code': 'GS4837-01', 'name': '과학기술과 사회 연구 세미나', 'professor': '하대청[62922]', 'time': [[True, False, True, False, False], [False, False, False, False, False, False]]}, {'division': '지능로봇 부전공', 'code': 'IR2201-01', 'name': '회로이론', 'professor': '박창수[63581]', 'time': [[True, False, True, False, False], [False, False, False, False, False, True]]}, {'division': '지능로봇 부전공', 'code': 'IR2202-01', 'name': '동역학', 'professor': '허필원[63766]', 'time': [[True, False, True, False, False], [True, False, False, False, False, False]]}, {'division': '지능로봇 부전공', 'code': 'IR4205-01', 'name': '로봇공학', 'professor': '윤정원[62811]', 'time': [[False, True, False, False, False], [True, False, False, True, False, False]]}, {'division': '지능로봇 부전공', 'code': 'IR4209-01', 'name': '로봇제어', 'professor': '류제하[01033]', 'time': [[False, True, False, True, False], [False, True, False, False, False, False]]}, {'division': '인문학·사회과학 부전공', 'code': 'LH2506-01', 'name': '한국현대시인론', 'professor': '이수정[61779]', 'time': [[True, False, True, False, False], [True, False, False, False, False, False]]}, {'division': '인문학·사회과학 부전공', 'code': 'LH2511-01', 'name': '현대시 읽기', 'professor': '이수정[61779]', 'time': [[True, False, True, False, False], [False, True, False, False, False, False]]}, {'division': '인문학·사회과학 부전공', 'code': 'LH2525-01', 'name': '근대의 모험: 서구근대문학의 이해 Ⅱ', 'professor': '이시연[60939]', 'time': [[False, True, False, True, False], [True, False, False, False, False, False]]}, {'division': '인문학·사회과학 부전공', 'code': 'LH2602-01', 'name': '한국사의 이해', 'professor': '신진혜[64024]', 'time': [[False, True, False, True, False], [False, True, False, False, False, False]]}, {'division': '인문학·사회과학 부전공', 'code': 'LH2613-01', 'name': '현대서양의 형성과 전개', 'professor': '김동혁[62921]', 'time': [[True, False, True, False, False], [False, True, False, False, False, False]]}, {'division': '인문학·사회과학 부전공', 'code': 'LH2616-01', 'name': '장기 19세기 서양 역사', 'professor': '김동혁[62921]', 'time': [[True, False, True, False, False], [True, False, False, False, False, False]]}, {'division': '인문학·사회과학 부전공', 'code': 'LH2618-01', 'name': '중동부 유럽 및 러시아의 역사', 'professor': '김동혁[62921]', 'time': [[True, False, True, False, False], [False, False, False, False, True, False]]}, {'division': '인문학·사회과학 부전공', 'code': 'LH3502-01', 'name': '시창작 특강', 'professor': '이수정[61779]', 'time': [[False, True, False, True, False], [False, True, False, False, False, False]]}, {'division': '인문학·사회과학 부전공', 'code': 'LH3602-01', 'name': '역사학특강', 'professor': '신진혜[64024]', 'time': [[True, False, True, False, False], [False, False, False, False, True, False]]}, {'division': '인문학·사회과학 부전공', 'code': 'LH3605-01', 'name': '조선시대 의례사', 'professor': '신진혜[64024]', 'time': [[True, False, True, False, False], [False, False, False, True, False, False]]}, {'division': '신소재공학부', 'code': 'MA2104-01', 'name': '고분자과학', 'professor': '고흥조[60688]', 'time': [[True, False, True, False, False], [False, False, False, False, True, False]]}, {'division': '신소재공학부', 'code': 'MA2201-01', 'name': '재료물리화학', 'professor': '윤명한[61081]', 'time': [[True, False, True, False, False], [True, False, False, False, False, False]]}, {'division': '신소재공학부', 'code': 'MA3105-01', 'name': '유기재료실험', 'professor': '김봉중[30656]\\n이준[62176]', 'time': [[False, True, False, False, False], [False, False, False, False, False, False]]}, {'division': '신소재공학부', 'code': 'MA3203-01', 'name': '재료의 결정구조', 'professor': '이상한[61798]', 'time': [[True, False, True, False, False], [False, False, False, True, False, False]]}, {'division': '신소재공학부', 'code': 'MA3210-01', 'name': '고분자 화학', 'professor': '박지웅[01182]', 'time': [[False, True, False, True, False], [False, True, False, False, False, False]]}, {'division': '신소재공학부', 'code': 'MA4202-01', 'name': '박막공학', 'professor': '정건영[60176]', 'time': [[False, True, False, True, False], [False, True, False, False, False, False]]}, {'division': '신소재공학부', 'code': 'MA4226-01', 'name': '초분자 재료', 'professor': '이은지[62933]', 'time': [[True, False, True, False, False], [False, True, False, False, False, False]]}, {'division': '신소재공학부', 'code': 'MA4227-01', 'name': '핵산 하이브리드 소재', 'professor': '최영재[64068]', 'time': [[True, False, True, False, False], [False, False, False, True, False, False]]}, {'division': '신소재공학부', 'code': 'MA9101-01', 'name': '학사논문연구', 'professor': '', 'time': [[False, False, False, False, False], [False, False, False, False, False, False]]}, {'division': '신소재공학부', 'code': 'MA9102-01', 'name': '학사논문연구 I', 'professor': '', 'time': [[False, False, False, False, False], [False, False, False, False, False, False]]}, {'division': '신소재공학부', 'code': 'MA9103-01', 'name': '학사논문연구 II', 'professor': '', 'time': [[False, False, False, False, False], [False, False, False, False, False, False]]}, {'division': '인문학·사회과학 부전공', 'code': 'MB2661-01', 'name': '논리학 입문', 'professor': '원치욱[62072]', 'time': [[True, False, True, False, False], [False, False, False, False, False, True]]}, {'division': '인문학·사회과학 부전공', 'code': 'MB2743-01', 'name': '인간의 마음과 행동 2', 'professor': '최원일[62488]', 'time': [[True, False, True, False, False], [True, False, False, False, False, False]]}, {'division': '인문학·사회과학 부전공', 'code': 'MB2748-01', 'name': '언어와 마음: 언어심리학적 접근', 'professor': '최원일[62488]', 'time': [[True, False, True, False, False], [False, False, False, False, False, True]]}, {'division': '인문학·사회과학 부전공', 'code': 'MB3631-01', 'name': '마음과 컴퓨터', 'professor': '원치욱[62072]', 'time': [[True, False, True, False, False], [False, False, False, False, True, False]]}, {'division': '인문학·사회과학 부전공', 'code': 'MB3764-01', 'name': '뇌와 인지', 'professor': '최원일[62488]', 'time': [[True, False, True, False, False], [False, False, False, True, False, False]]}, {'division': '인문학·사회과학 부전공', 'code': 'MB3767-01', 'name': '(MOOC 지정) 인공지능 로봇의 윤리', 'professor': '김건우[61974]', 'time': [[True, False, True, False, False], [True, False, False, False, False, False]]}, {'division': '기계공학부', 'code': 'MC2102-01', 'name': '(MOOC 지정)유체역학 I', 'professor': '지솔근[62534]', 'time': [[True, False, True, False, False], [False, False, False, True, False, False]]}, {'division': '기계공학부', 'code': 'MC2103-01', 'name': '동역학', 'professor': '허필원[63766]', 'time': [[True, False, True, False, False], [True, False, False, False, False, False]]}, {'division': '기계공학부', 'code': 'MC2202-01', 'name': '공업수학 II', 'professor': '알사드 아프잘[63815]', 'time': [[True, False, True, False, False], [False, True, False, False, False, False]]}, {'division': '기계공학부', 'code': 'MC2205-01', 'name': '고체역학 II', 'professor': '알사드 아프잘[63815]', 'time': [[True, False, True, False, False], [False, False, False, False, True, False]]}, {'division': '기계공학부', 'code': 'MC3107-01', 'name': '기계공학실험Ⅱ', 'professor': '김진수[63230]\\n오현석[62555]', 'time': [[False, True, False, False, False], [False, False, False, False, False, False]]}, {'division': '기계공학부', 'code': 'MC3107-02', 'name': '기계공학실험Ⅱ', 'professor': '김진수[63230]\\n오현석[62555]', 'time': [[False, False, False, False, True], [False, False, False, False, False, False]]}, {'division': '기계공학부', 'code': 'MC3202-01', 'name': '진동학', 'professor': '알사드 아프잘[63815]', 'time': [[False, True, False, True, False], [False, True, False, False, False, False]]}, {'division': '기계공학부', 'code': 'MC3211-01', 'name': '컴퓨터이용 설계 및 생산', 'professor': '이용구[01175]', 'time': [[True, False, True, False, False], [False, False, False, False, False, True]]}, {'division': '기계공학부', 'code': 'MC3213-01', 'name': '기계요소설계', 'professor': '이선규[64153]', 'time': [[False, True, False, True, False], [True, False, False, False, False, False]]}, {'division': '기계공학부', 'code': 'MC3218-01', 'name': '기계로봇을 위한 시스템 모델링 및 제어', 'professor': '박기환[01074]', 'time': [[True, False, True, False, False], [False, False, False, False, True, False]]}, {'division': '기계공학부', 'code': 'MC3219-01', 'name': '기계로봇 자동제어', 'professor': '김표진[64561]', 'time': [[True, False, True, False, False], [True, False, False, False, False, False]]}, {'division': '기계공학부', 'code': 'MC4204-01', 'name': '로봇공학', 'professor': '윤정원[62811]', 'time': [[False, True, False, False, False], [True, False, False, True, False, False]]}, {'division': '기계공학부', 'code': 'MC4208-01', 'name': '그래피컬 시스템 디자인 프로그래밍', 'professor': '양성[30443]', 'time': [[False, True, False, True, False], [False, True, False, False, False, False]]}, {'division': '기계공학부', 'code': 'MC4212-01', 'name': '최적설계', 'professor': '오현석[62555]', 'time': [[False, True, False, True, False], [True, False, False, False, False, False]]}, {'division': '기계공학부', 'code': 'MC4230-01', 'name': '생체모방공학 개론', 'professor': '정경렬[63813]', 'time': [[False, True, False, True, False], [False, False, False, False, True, False]]}, {'division': '기계공학부', 'code': 'MC4231-01', 'name': '유체역학 특론A - 압축성 유동', 'professor': '최성임[63947]', 'time': [[False, True, False, True, False], [False, False, False, True, False, False]]}, {'division': '기계공학부', 'code': 'MC4238-01', 'name': '지능형 모터 융합 프로젝트', 'professor': '허필원[63766]', 'time': [[False, False, False, False, True], [False, False, False, False, False, False]]}, {'division': '기계공학부', 'code': 'MC4239-01', 'name': '대류열전달', 'professor': '이승현[63255]', 'time': [[True, False, True, False, False], [True, False, False, False, False, False]]}, {'division': '기계공학부', 'code': 'MC9102-01', 'name': '학사논문연구 I', 'professor': '', 'time': [[False, False, False, False, False], [False, False, False, False, False, False]]}, {'division': '기계공학부', 'code': 'MC9103-01', 'name': '학사논문연구 II', 'professor': '', 'time': [[False, False, False, False, False], [False, False, False, False, False, False]]}, {'division': '의생명공학 부전공', 'code': 'MD2101-01', 'name': '의공학 입문', 'professor': '권혁상[60692]\\n김재관[61196]\\n이보름[60931]\\n정의헌[61184]', 'time': [[False, True, False, True, False], [False, False, False, False, True, False]]}, {'division': '의생명공학 부전공', 'code': 'MD4402-01', 'name': '분자생물학의 실질적 이해 II', 'professor': '조준[63362]', 'time': [[True, False, True, False, False], [False, False, False, True, False, False]]}, {'division': '의생명공학 부전공', 'code': 'MD4403-01', 'name': '노화생물학', 'professor': '류동렬[64397]', 'time': [[True, False, False, False, False], [False, False, False, False, False, False]]}, {'division': '의생명공학 부전공', 'code': 'MD4503-01', 'name': '의학 행동 과학', 'professor': '김태[62452]', 'time': [[False, True, False, True, False], [False, False, False, False, False, False]]}, {'division': '의생명공학 부전공', 'code': 'MD4505-01', 'name': '내분비학개론', 'professor': '오창명[63468]', 'time': [[False, True, False, True, False], [False, True, False, False, False, False]]}, {'division': '수학부전공', 'code': 'MM2001-01', 'name': '다변수해석학과 응용', 'professor': '강현석[61973]\\n유현주[61585]', 'time': [[False, True, False, True, False], [False, True, False, False, False, False]]}, {'division': '수학부전공', 'code': 'MM2001-02', 'name': '다변수해석학과 응용', 'professor': '강현석[61973]\\n유현주[61585]', 'time': [[False, True, False, True, False], [False, False, False, True, False, False]]}, {'division': '수학부전공', 'code': 'MM2001-03', 'name': '다변수해석학과 응용', 'professor': '김민기[64123]\\n유현주[61585]', 'time': [[False, True, True, True, False], [False, False, False, True, False, False]]}, {'division': '수학부전공', 'code': 'MM2001-04', 'name': '다변수해석학과 응용', 'professor': '김민기[64123]\\n유현주[61585]', 'time': [[False, True, True, True, False], [False, False, False, False, True, False]]}, {'division': '수학부전공', 'code': 'MM2001-05', 'name': '다변수해석학과 응용', 'professor': '송정민[61101]\\n유현주[61585]', 'time': [[True, True, False, True, False], [False, True, False, False, False, False]]}, {'division': '수학부전공', 'code': 'MM2001-06', 'name': '다변수해석학과 응용', 'professor': '유현주[61585]\\n최정옥[61376]', 'time': [[True, True, True, False, False], [False, False, False, True, False, False]]}, {'division': '수학부전공', 'code': 'MM2002-01', 'name': '미분방정식과 응용', 'professor': '송정민[61101]\\n유현주[61585]', 'time': [[True, False, True, False, False], [True, False, False, False, False, False]]}, {'division': '수학부전공', 'code': 'MM2002-02', 'name': '미분방정식과 응용', 'professor': '유현주[61585]\\n황치옥[60934]', 'time': [[True, True, True, False, False], [False, True, False, False, False, False]]}, {'division': '수학부전공', 'code': 'MM2004-01', 'name': '선형대수학과 응용', 'professor': '김재길[62813]\\n유현주[61585]', 'time': [[True, False, True, False, True], [False, False, False, False, True, False]]}, {'division': '수학부전공', 'code': 'MM2004-02', 'name': '선형대수학과 응용', 'professor': '김재길[62813]\\n유현주[61585]', 'time': [[True, False, True, False, True], [False, False, False, True, False, False]]}, {'division': '수학부전공', 'code': 'MM2004-03', 'name': '선형대수학과 응용', 'professor': '유현주[61585]\\n황치옥[60934]', 'time': [[True, False, True, False, True], [True, False, False, False, False, False]]}, {'division': '수학부전공', 'code': 'MM3016-01', 'name': '푸리에 해석학', 'professor': '김홍종[63637]', 'time': [[False, True, False, True, False], [True, False, False, False, False, False]]}, {'division': '수학부전공', 'code': 'MM4005-01', 'name': '과학계산 프로그래밍', 'professor': '황치옥[60934]', 'time': [[True, False, True, False, False], [False, False, False, False, True, False]]}, {'division': '수학부전공', 'code': 'MM4006-01', 'name': '정수론과 응용', 'professor': '송정민[61101]', 'time': [[True, False, True, False, False], [False, False, False, False, True, False]]}, {'division': '수학부전공', 'code': 'MM4007-01', 'name': '기하학 I', 'professor': '강현석[61973]', 'time': [[False, True, False, True, False], [False, False, False, False, True, False]]}, {'division': '수학부전공', 'code': 'MM4009-01', 'name': '그래프 이론', 'professor': '최정옥[61376]', 'time': [[True, False, True, False, False], [False, True, False, False, False, False]]}, {'division': '인문학·사회과학 부전공', 'code': 'PP2616-01', 'name': '장기 19세기 서양 역사', 'professor': '김동혁[62921]', 'time': [[True, False, True, False, False], [True, False, False, False, False, False]]}, {'division': '인문학·사회과학 부전공', 'code': 'PP2724-01', 'name': '거시경제학원론', 'professor': '김상호[61574]', 'time': [[True, False, True, False, False], [False, True, False, False, False, False]]}, {'division': '인문학·사회과학 부전공', 'code': 'PP2763-01', 'name': '현대법학의 이해', 'professor': '김건우[61974]', 'time': [[True, False, True, False, False], [False, True, False, False, False, False]]}, {'division': '인문학·사회과학 부전공', 'code': 'PP2765-01', 'name': '헌법과 국가', 'professor': '김건우[61974]', 'time': [[False, True, False, True, False], [False, True, False, False, False, False]]}, {'division': '인문학·사회과학 부전공', 'code': 'PP2788-01', 'name': '민주주의론', 'professor': '김혜림[64283]', 'time': [[False, True, False, True, False], [False, False, False, False, True, False]]}, {'division': '인문학·사회과학 부전공', 'code': 'PP3767-01', 'name': '(MOOC 지정) 인공지능 로봇의 윤리', 'professor': '김건우[61974]', 'time': [[True, False, True, False, False], [True, False, False, False, False, False]]}, {'division': '인문학·사회과학 부전공', 'code': 'PP3831-01', 'name': '과학기술학의 이해: 과학사회논쟁의 쟁점과 윤리', 'professor': '하대청[62922]', 'time': [[True, False, True, False, False], [False, False, False, True, False, False]]}, {'division': '물리광과학과', 'code': 'PS2103-01', 'name': '전자기학 및 연습Ⅱ', 'professor': '방우석[62486]', 'time': [[False, True, False, True, False], [False, True, False, False, False, False]]}, {'division': '물리광과학과', 'code': 'PS2202-01', 'name': '고전역학 및 연습Ⅱ', 'professor': '조병익[61575]', 'time': [[False, True, True, True, False], [False, False, False, False, True, False]]}, {'division': '물리광과학과', 'code': 'PS3104-01', 'name': '양자물리 및 연습 II', 'professor': '양현석[63524]', 'time': [[True, False, True, False, False], [False, True, False, False, False, False]]}, {'division': '물리광과학과', 'code': 'PS3105-01', 'name': '열역학 및 통계물리', 'professor': '김동희[61701]', 'time': [[True, False, True, False, False], [False, False, False, True, False, False]]}, {'division': '물리광과학과', 'code': 'PS3106-01', 'name': '물리실험 I', 'professor': '남창희[64167]\\n장지승[61523]', 'time': [[False, True, False, False, False], [False, False, False, False, False, False]]}, {'division': '물리광과학과', 'code': 'PS3106-02', 'name': '물리실험 I', 'professor': '남창희[64167]\\n장지승[61523]', 'time': [[False, False, False, False, True], [False, False, False, False, False, False]]}, {'division': '물리광과학과', 'code': 'PS3107-01', 'name': '수리물리 I', 'professor': '박찬용[62936]', 'time': [[False, True, False, True, False], [True, False, False, False, False, False]]}, {'division': '물리광과학과', 'code': 'PS4209-01', 'name': '일반 상대론 개론', 'professor': '김근영[61666]', 'time': [[False, True, False, True, False], [False, False, False, False, True, False]]}, {'division': '물리광과학과', 'code': 'PS4211-01', 'name': '고급역학', 'professor': '박찬용[62936]', 'time': [[False, True, False, True, False], [False, False, False, True, False, False]]}, {'division': '물리광과학과', 'code': 'PS4214-01', 'name': '고급 양자 물리', 'professor': '양현석[63524]', 'time': [[True, False, True, False, False], [False, False, False, False, True, False]]}, {'division': '물리광과학과', 'code': 'PS4218-01', 'name': '양자정보물리학 입문', 'professor': '이상윤[63523]', 'time': [[False, True, False, True, False], [False, True, False, False, False, False]]}, {'division': '물리광과학과', 'code': 'PS4221-01', 'name': '나노 및 초전도 물리 개론', 'professor': '도용주[62331]', 'time': [[True, False, False, True, False], [False, False, False, False, False, True]]}, {'division': '물리광과학과', 'code': 'PS9102-01', 'name': '학사논문연구 I', 'professor': '', 'time': [[False, False, False, False, False], [False, False, False, False, False, False]]}, {'division': '물리광과학과', 'code': 'PS9103-01', 'name': '학사논문연구 II', 'professor': '', 'time': [[False, False, False, False, False], [False, False, False, False, False, False]]}, {'division': '인문학·사회과학 부전공', 'code': 'SS3631-01', 'name': '마음과 컴퓨터', 'professor': '원치욱[62072]', 'time': [[True, False, True, False, False], [False, False, False, False, True, False]]}, {'division': '인문학·사회과학 부전공', 'code': 'SS3767-01', 'name': '(MOOC 지정) 인공지능 로봇의 윤리', 'professor': '김건우[61974]', 'time': [[True, False, True, False, False], [True, False, False, False, False, False]]}, {'division': '인문학·사회과학 부전공', 'code': 'SS3831-01', 'name': '과학기술학의 이해: 과학사회논쟁의 쟁점과 윤리', 'professor': '하대청[62922]', 'time': [[True, False, True, False, False], [False, False, False, True, False, False]]}, {'division': '인문학·사회과학 부전공', 'code': 'SS3839-01', 'name': '질병과 사회', 'professor': '하대청[62922]', 'time': [[True, False, True, False, False], [False, False, False, False, True, False]]}, {'division': '인문학·사회과학 부전공', 'code': 'SS4837-01', 'name': '과학기술과 사회 연구 세미나', 'professor': '하대청[62922]', 'time': [[True, False, True, False, False], [False, False, False, False, False, False]]}, {'division': '대학공통', 'code': 'UC0201-01', 'name': '사회봉사', 'professor': '김재관[61196]', 'time': [[False, False, False, False, True], [False, False, False, False, False, False]]}, {'division': '대학공통', 'code': 'UC0202-01', 'name': '창의함양', 'professor': '고광희[60179]', 'time': [[False, False, False, False, False], [False, False, False, False, False, False]]}, {'division': '대학공통', 'code': 'UC0203-01', 'name': '해외봉사', 'professor': '김재관[61196]', 'time': [[False, False, False, False, True], [False, False, False, False, False, False]]}, {'division': '대학공통', 'code': 'UC0613-01', 'name': '기업가정신', 'professor': '', 'time': [[False, False, True, False, False], [False, False, False, False, False, False]]}, {'division': '대학공통', 'code': 'UC0623-01', 'name': '고급융합캡스톤디자인', 'professor': '장효양[64650]', 'time': [[False, True, False, False, False], [False, False, False, False, False, False]]}, {'division': '대학공통', 'code': 'UC0624-01', 'name': '4차 산업혁명 트렌드 분석', 'professor': '장현준[63834]', 'time': [[False, True, False, False, False], [False, False, False, False, False, False]]}, {'division': '대학공통', 'code': 'UC0901-01', 'name': '과학기술과 경제', 'professor': '황인성[64593]', 'time': [[False, True, False, False, False], [False, False, False, False, False, True]]}, {'division': '대학공통', 'code': 'UC0902-01', 'name': 'GIST 전공탐색', 'professor': '이주형[61430]', 'time': [[False, False, False, True, False], [False, False, False, False, False, True]]}, {'division': '대학공통', 'code': 'UC9331-01', 'name': 'GIST대학 콜로퀴움', 'professor': '이승현[63255]', 'time': [[False, False, False, True, False], [False, False, False, False, False, True]]}]\n",
      "type: <class 'list'>\n"
     ]
    }
   ],
   "source": [
    "def allLecture(url : str):\n",
    "    response = requests.get(url)\n",
    "    return response\n",
    "\n",
    "response = allLecture(all_course_url)\n",
    "print(f\"status : {response.status_code}\")\n",
    "print(f\"data : {json.loads(response.text)}\")\n",
    "print(f\"type: {type(json.loads(response.text))}\")"
   ]
  },
  {
   "cell_type": "markdown",
   "metadata": {},
   "source": [
    "## 강의 추가하기"
   ]
  },
  {
   "cell_type": "code",
   "execution_count": 76,
   "metadata": {},
   "outputs": [
    {
     "name": "stdout",
     "output_type": "stream",
     "text": [
      "status : 200\n",
      "data : {'status': True, 'before_cnt': 396, 'after_cnt': 397}\n",
      "type: <class 'dict'>\n"
     ]
    }
   ],
   "source": [
    "sample_course = {'division': 'AI융합 부전공', \n",
    "                 'code': 'AI2902-01', \n",
    "                 'name': '디지털 유니버스 콜로퀴움33', \n",
    "                 'professor': '황치옥[60934]', \n",
    "                 'time': [[False, False, False, True, False], \n",
    "                          [False, True, False, False, False, False]]}\n",
    "\n",
    "# post 요청 시 body에 json 넣어서 전송. json option 사용.\n",
    "def addCourse(url : str, data : dict):\n",
    "    response = requests.post(url=url, json = data)\n",
    "    return response\n",
    "\n",
    "response = addCourse(add_course_url, sample_course)\n",
    "print(f\"status : {response.status_code}\")\n",
    "print(f\"data : {json.loads(response.text)}\")\n",
    "print(f\"type: {type(json.loads(response.text))}\")\n",
    "\n",
    "## 강의 개수 늘어남."
   ]
  },
  {
   "cell_type": "code",
   "execution_count": 79,
   "metadata": {},
   "outputs": [
    {
     "name": "stdout",
     "output_type": "stream",
     "text": [
      "status : 200\n",
      "data : {'isExist': True, 'courses': [{'index': 396, 'lec': {'division': 'AI융합 부전공', 'code': 'AI2902-01', 'name': '디지털 유니버스 콜로퀴움334', 'professor': '황치옥[60934]++', 'time': [[False, False, False, True, False], [False, True, False, False, False, False]]}}]}\n",
      "type: <class 'dict'>\n",
      "[{'index': 396, 'lec': {'division': 'AI융합 부전공', 'code': 'AI2902-01', 'name': '디지털 유니버스 콜로퀴움334', 'professor': '황치옥[60934]++', 'time': [[False, False, False, True, False], [False, True, False, False, False, False]]}}]\n"
     ]
    }
   ],
   "source": [
    "response = searchLecture(course_search_url, \"2902-01\")\n",
    "print(f\"status : {response.status_code}\")\n",
    "print(f\"data : {json.loads(response.text)}\")\n",
    "print(f\"type: {type(json.loads(response.text))}\")\n",
    "print(json.loads(response.text)['courses'])\n",
    "# 검색도 잘 됨."
   ]
  },
  {
   "cell_type": "markdown",
   "metadata": {},
   "source": [
    "## 강의 삭제하기"
   ]
  },
  {
   "cell_type": "code",
   "execution_count": 69,
   "metadata": {},
   "outputs": [
    {
     "name": "stdout",
     "output_type": "stream",
     "text": [
      "status : 200\n",
      "data : {'success': True, 'before_lec': 397, 'current_len': 396}\n",
      "type: <class 'dict'>\n"
     ]
    }
   ],
   "source": [
    "#delete는 일반적으로 query만 넘김. json이 아닌 params로 넘기자.\n",
    "def removeCourse(url : str, data : dict):\n",
    "    response = requests.delete(url = url, json = data)\n",
    "    return response\n",
    "\n",
    "response = removeCourse(remove_course_url, data={\"code\" : \"AI2902-01\", \"name\" : \"콜로퀴움\"})\n",
    "print(f\"status : {response.status_code}\")\n",
    "print(f\"data : {json.loads(response.text)}\")\n",
    "print(f\"type: {type(json.loads(response.text))}\")"
   ]
  },
  {
   "cell_type": "markdown",
   "metadata": {},
   "source": [
    "## 강의 업데이트하기"
   ]
  },
  {
   "cell_type": "code",
   "execution_count": 78,
   "metadata": {},
   "outputs": [
    {
     "name": "stdout",
     "output_type": "stream",
     "text": [
      "status : 200\n",
      "data : {'success': True, 'index': 396}\n",
      "type: <class 'dict'>\n"
     ]
    }
   ],
   "source": [
    "sample_course = {'division': 'AI융합 부전공', \n",
    "                 'code': 'AI2902-01', \n",
    "                 'name': '디지털 유니버스 콜로퀴움334', \n",
    "                 'professor': '황치옥[60934]++', \n",
    "                 'time': [[False, False, False, True, False], \n",
    "                          [False, True, False, False, False, False]]}\n",
    "\n",
    "#course code 기준으로 정보 업데이트\n",
    "def updateCourse(url : str, data : dict):\n",
    "    response = requests.put(url=url, json = data)\n",
    "    return response\n",
    "\n",
    "response = updateCourse(update_course_url, data=sample_course)\n",
    "print(f\"status : {response.status_code}\")\n",
    "print(f\"data : {json.loads(response.text)}\")\n",
    "print(f\"type: {type(json.loads(response.text))}\")"
   ]
  },
  {
   "cell_type": "markdown",
   "metadata": {},
   "source": [
    "# 강의 시간표 가져오기"
   ]
  },
  {
   "cell_type": "code",
   "execution_count": 95,
   "metadata": {},
   "outputs": [
    {
     "name": "stdout",
     "output_type": "stream",
     "text": [
      "status : 200\n",
      "data : {'data': [['0900-1030', '', '', '', '', ''], ['1030-1200', '', '', '', '', ''], ['Lunch', '', '', '', '', ''], ['1300-1430', '', '', '', '', ''], ['1430-1600', '', '', '', '', ''], ['1600-1730', '', '', '', '', '']]}\n",
      "type: <class 'dict'>\n"
     ]
    }
   ],
   "source": [
    "# 텅빈 강의 시간표 가져오기\n",
    "def getTimeTable(url : str):\n",
    "    response = requests.get(url)\n",
    "    return response\n",
    "\n",
    "# response.content : byte\n",
    "# .decode() : str\n",
    "# json.loads() : str -> dict\n",
    "# [](indexing) : dict 에서 list 추출.\n",
    "\n",
    "response = getTimeTable(get_timetable_url)\n",
    "print(f\"status : {response.status_code}\")\n",
    "print(f\"data : {json.loads(response.text)}\")\n",
    "print(f\"type: {type(json.loads(response.text))}\")"
   ]
  },
  {
   "cell_type": "code",
   "execution_count": 96,
   "metadata": {},
   "outputs": [
    {
     "data": {
      "text/html": [
       "<div>\n",
       "<style scoped>\n",
       "    .dataframe tbody tr th:only-of-type {\n",
       "        vertical-align: middle;\n",
       "    }\n",
       "\n",
       "    .dataframe tbody tr th {\n",
       "        vertical-align: top;\n",
       "    }\n",
       "\n",
       "    .dataframe thead th {\n",
       "        text-align: right;\n",
       "    }\n",
       "</style>\n",
       "<table border=\"1\" class=\"dataframe\">\n",
       "  <thead>\n",
       "    <tr style=\"text-align: right;\">\n",
       "      <th></th>\n",
       "      <th>Time</th>\n",
       "      <th>Mon</th>\n",
       "      <th>Tue</th>\n",
       "      <th>Wed</th>\n",
       "      <th>Thu</th>\n",
       "      <th>Fri</th>\n",
       "    </tr>\n",
       "  </thead>\n",
       "  <tbody>\n",
       "    <tr>\n",
       "      <th>0</th>\n",
       "      <td>0900-1030</td>\n",
       "      <td></td>\n",
       "      <td></td>\n",
       "      <td></td>\n",
       "      <td></td>\n",
       "      <td></td>\n",
       "    </tr>\n",
       "    <tr>\n",
       "      <th>1</th>\n",
       "      <td>1030-1200</td>\n",
       "      <td></td>\n",
       "      <td></td>\n",
       "      <td></td>\n",
       "      <td></td>\n",
       "      <td></td>\n",
       "    </tr>\n",
       "    <tr>\n",
       "      <th>2</th>\n",
       "      <td>Lunch</td>\n",
       "      <td></td>\n",
       "      <td></td>\n",
       "      <td></td>\n",
       "      <td></td>\n",
       "      <td></td>\n",
       "    </tr>\n",
       "    <tr>\n",
       "      <th>3</th>\n",
       "      <td>1300-1430</td>\n",
       "      <td></td>\n",
       "      <td></td>\n",
       "      <td></td>\n",
       "      <td></td>\n",
       "      <td></td>\n",
       "    </tr>\n",
       "    <tr>\n",
       "      <th>4</th>\n",
       "      <td>1430-1600</td>\n",
       "      <td></td>\n",
       "      <td></td>\n",
       "      <td></td>\n",
       "      <td></td>\n",
       "      <td></td>\n",
       "    </tr>\n",
       "    <tr>\n",
       "      <th>5</th>\n",
       "      <td>1600-1730</td>\n",
       "      <td></td>\n",
       "      <td></td>\n",
       "      <td></td>\n",
       "      <td></td>\n",
       "      <td></td>\n",
       "    </tr>\n",
       "  </tbody>\n",
       "</table>\n",
       "</div>"
      ],
      "text/plain": [
       "        Time Mon Tue Wed Thu Fri\n",
       "0  0900-1030                    \n",
       "1  1030-1200                    \n",
       "2      Lunch                    \n",
       "3  1300-1430                    \n",
       "4  1430-1600                    \n",
       "5  1600-1730                    "
      ]
     },
     "execution_count": 96,
     "metadata": {},
     "output_type": "execute_result"
    }
   ],
   "source": [
    "# 전송받은 list of list 를 pd.DataFrame으로 바꾸어 출력.\n",
    "pd.DataFrame(json.loads(response.text)['data'], columns=['Time','Mon', 'Tue', 'Wed','Thu','Fri'])"
   ]
  },
  {
   "cell_type": "code",
   "execution_count": 97,
   "metadata": {},
   "outputs": [
    {
     "name": "stdout",
     "output_type": "stream",
     "text": [
      "status : 200\n",
      "data : {'success': True, 'timetable': [['0900-1030', '선형대수학과 응용', '', '선형대수학과 응용', '', '선형대수학과 응용'], ['1030-1200', '', '', '', '', ''], ['Lunch', '', '', '', '', ''], ['1300-1430', '', '', '', '', ''], ['1430-1600', '', '', '', '', ''], ['1600-1730', '', '', '', '', '']]}\n",
      "type: <class 'dict'>\n",
      "status : 200\n",
      "data : {'success': True, 'timetable': [['0900-1030', '선형대수학과 응용', '영어 II : 이공계 글쓰기 입문', '선형대수학과 응용', '영어 II : 이공계 글쓰기 입문', '선형대수학과 응용'], ['1030-1200', '', '', '', '', ''], ['Lunch', '', '', '', '', ''], ['1300-1430', '', '', '', '', ''], ['1430-1600', '', '', '', '', ''], ['1600-1730', '', '', '', '', '']]}\n",
      "type: <class 'dict'>\n",
      "status : 200\n",
      "data : {'success': True, 'timetable': [['0900-1030', '선형대수학과 응용', '영어 II : 이공계 글쓰기 입문', '선형대수학과 응용', '영어 II : 이공계 글쓰기 입문', '선형대수학과 응용'], ['1030-1200', '생명과학속 이야기들', '', '생명과학속 이야기들', '', ''], ['Lunch', '', '', '', '', ''], ['1300-1430', '', '', '', '', ''], ['1430-1600', '', '', '', '', ''], ['1600-1730', '', '', '', '', '']]}\n",
      "type: <class 'dict'>\n",
      "status : 200\n",
      "data : {'success': True, 'timetable': [['0900-1030', '선형대수학과 응용', '영어 II : 이공계 글쓰기 입문', '선형대수학과 응용', '영어 II : 이공계 글쓰기 입문', '선형대수학과 응용'], ['1030-1200', '생명과학속 이야기들', '', '생명과학속 이야기들', '', ''], ['Lunch', '', '', '', '', ''], ['1300-1430', '기계학습 및 딥러닝', '', '기계학습 및 딥러닝', '', ''], ['1430-1600', '', '', '', '', ''], ['1600-1730', '', '', '', '', '']]}\n",
      "type: <class 'dict'>\n",
      "status : 200\n",
      "data : {'success': True, 'timetable': [['0900-1030', '선형대수학과 응용', '영어 II : 이공계 글쓰기 입문', '선형대수학과 응용', '영어 II : 이공계 글쓰기 입문', '선형대수학과 응용'], ['1030-1200', '생명과학속 이야기들', '', '생명과학속 이야기들', '', ''], ['Lunch', '', '', '', '', ''], ['1300-1430', '기계학습 및 딥러닝', '', '기계학습 및 딥러닝', '', ''], ['1430-1600', '', '알고리즘 개론', '', '알고리즘 개론', ''], ['1600-1730', '', '', '', '', '']]}\n",
      "type: <class 'dict'>\n",
      "status : 200\n",
      "data : {'success': True, 'timetable': [['0900-1030', '선형대수학과 응용', '영어 II : 이공계 글쓰기 입문', '선형대수학과 응용', '영어 II : 이공계 글쓰기 입문', '선형대수학과 응용'], ['1030-1200', '생명과학속 이야기들', '', '생명과학속 이야기들', '', ''], ['Lunch', '', '', '', '', ''], ['1300-1430', '기계학습 및 딥러닝', '', '기계학습 및 딥러닝', '', ''], ['1430-1600', '컴퓨터 구조', '알고리즘 개론', '컴퓨터 구조', '알고리즘 개론', ''], ['1600-1730', '', '', '', '', '']]}\n",
      "type: <class 'dict'>\n",
      "status : 200\n",
      "data : {'success': True, 'timetable': [['0900-1030', '선형대수학과 응용', '영어 II : 이공계 글쓰기 입문', '선형대수학과 응용', '영어 II : 이공계 글쓰기 입문', '선형대수학과 응용'], ['1030-1200', '생명과학속 이야기들', '', '생명과학속 이야기들', '', ''], ['Lunch', '', '', '', '', ''], ['1300-1430', '기계학습 및 딥러닝', '', '기계학습 및 딥러닝', '', ''], ['1430-1600', '컴퓨터 구조', '알고리즘 개론', '컴퓨터 구조', '알고리즘 개론', ''], ['1600-1730', '언어와 마음: 언어심리학적 접근', '', '언어와 마음: 언어심리학적 접근', '', '']]}\n",
      "type: <class 'dict'>\n",
      "status : 200\n",
      "data : {'success': True, 'timetable': [['0900-1030', '선형대수학과 응용', '영어 II : 이공계 글쓰기 입문', '선형대수학과 응용', '영어 II : 이공계 글쓰기 입문', '선형대수학과 응용'], ['1030-1200', '생명과학속 이야기들', '', '생명과학속 이야기들', '', ''], ['Lunch', '', '', '', '', ''], ['1300-1430', '기계학습 및 딥러닝', '', '기계학습 및 딥러닝', '', ''], ['1430-1600', '컴퓨터 구조', '알고리즘 개론', '컴퓨터 구조', '알고리즘 개론', ''], ['1600-1730', '언어와 마음: 언어심리학적 접근', '', '언어와 마음: 언어심리학적 접근', 'GIST대학 콜로퀴움', '']]}\n",
      "type: <class 'dict'>\n"
     ]
    },
    {
     "data": {
      "text/html": [
       "<div>\n",
       "<style scoped>\n",
       "    .dataframe tbody tr th:only-of-type {\n",
       "        vertical-align: middle;\n",
       "    }\n",
       "\n",
       "    .dataframe tbody tr th {\n",
       "        vertical-align: top;\n",
       "    }\n",
       "\n",
       "    .dataframe thead th {\n",
       "        text-align: right;\n",
       "    }\n",
       "</style>\n",
       "<table border=\"1\" class=\"dataframe\">\n",
       "  <thead>\n",
       "    <tr style=\"text-align: right;\">\n",
       "      <th></th>\n",
       "      <th>Time</th>\n",
       "      <th>Mon</th>\n",
       "      <th>Tue</th>\n",
       "      <th>Wed</th>\n",
       "      <th>Thu</th>\n",
       "      <th>Fri</th>\n",
       "    </tr>\n",
       "  </thead>\n",
       "  <tbody>\n",
       "    <tr>\n",
       "      <th>0</th>\n",
       "      <td>0900-1030</td>\n",
       "      <td>선형대수학과 응용</td>\n",
       "      <td>영어 II : 이공계 글쓰기 입문</td>\n",
       "      <td>선형대수학과 응용</td>\n",
       "      <td>영어 II : 이공계 글쓰기 입문</td>\n",
       "      <td>선형대수학과 응용</td>\n",
       "    </tr>\n",
       "    <tr>\n",
       "      <th>1</th>\n",
       "      <td>1030-1200</td>\n",
       "      <td>생명과학속 이야기들</td>\n",
       "      <td></td>\n",
       "      <td>생명과학속 이야기들</td>\n",
       "      <td></td>\n",
       "      <td></td>\n",
       "    </tr>\n",
       "    <tr>\n",
       "      <th>2</th>\n",
       "      <td>Lunch</td>\n",
       "      <td></td>\n",
       "      <td></td>\n",
       "      <td></td>\n",
       "      <td></td>\n",
       "      <td></td>\n",
       "    </tr>\n",
       "    <tr>\n",
       "      <th>3</th>\n",
       "      <td>1300-1430</td>\n",
       "      <td>기계학습 및 딥러닝</td>\n",
       "      <td></td>\n",
       "      <td>기계학습 및 딥러닝</td>\n",
       "      <td></td>\n",
       "      <td></td>\n",
       "    </tr>\n",
       "    <tr>\n",
       "      <th>4</th>\n",
       "      <td>1430-1600</td>\n",
       "      <td>컴퓨터 구조</td>\n",
       "      <td>알고리즘 개론</td>\n",
       "      <td>컴퓨터 구조</td>\n",
       "      <td>알고리즘 개론</td>\n",
       "      <td></td>\n",
       "    </tr>\n",
       "    <tr>\n",
       "      <th>5</th>\n",
       "      <td>1600-1730</td>\n",
       "      <td>언어와 마음: 언어심리학적 접근</td>\n",
       "      <td></td>\n",
       "      <td>언어와 마음: 언어심리학적 접근</td>\n",
       "      <td>GIST대학 콜로퀴움</td>\n",
       "      <td></td>\n",
       "    </tr>\n",
       "  </tbody>\n",
       "</table>\n",
       "</div>"
      ],
      "text/plain": [
       "        Time                Mon                 Tue                Wed  \\\n",
       "0  0900-1030          선형대수학과 응용  영어 II : 이공계 글쓰기 입문          선형대수학과 응용   \n",
       "1  1030-1200         생명과학속 이야기들                             생명과학속 이야기들   \n",
       "2      Lunch                                                             \n",
       "3  1300-1430         기계학습 및 딥러닝                             기계학습 및 딥러닝   \n",
       "4  1430-1600             컴퓨터 구조             알고리즘 개론             컴퓨터 구조   \n",
       "5  1600-1730  언어와 마음: 언어심리학적 접근                      언어와 마음: 언어심리학적 접근   \n",
       "\n",
       "                  Thu        Fri  \n",
       "0  영어 II : 이공계 글쓰기 입문  선형대수학과 응용  \n",
       "1                                 \n",
       "2                                 \n",
       "3                                 \n",
       "4             알고리즘 개론             \n",
       "5         GIST대학 콜로퀴움             "
      ]
     },
     "execution_count": 97,
     "metadata": {},
     "output_type": "execute_result"
    }
   ],
   "source": [
    "# 시간표에 강의 추가\n",
    "# 과목코드와 강좌명 키워드를 받아 요청하면, DB에서 해당 강좌를 검색하고 그 강좌명을 시간표에 추가.\n",
    "# 시간표에는 강좌명만 존재, 세부 내역은 강좌DB에 저장되어 있음.\n",
    "def addTimeTable(url : str, data : dict):\n",
    "    response = requests.put(url, json=data)\n",
    "    print(f\"status : {response.status_code}\")\n",
    "    print(f\"data : {json.loads(response.text)}\")\n",
    "    print(f\"type: {type(json.loads(response.text))}\")\n",
    "    return response\n",
    "\n",
    "response = addTimeTable(add_timetable_url, {\"code\" : \"2004-03\", \"name\" : \"선형\"})\n",
    "response = addTimeTable(add_timetable_url, {\"code\" : \"2652-09\", \"name\" : \"영어\"})\n",
    "response = addTimeTable(add_timetable_url, {\"code\" : \"1322\", \"name\" : \"생명\"})\n",
    "response = addTimeTable(add_timetable_url, {\"code\" : \"4213\", \"name\" : \"기계\"})\n",
    "response = addTimeTable(add_timetable_url, {\"code\" : \"2206-02\", \"name\" : \"알고리즘\"})\n",
    "response = addTimeTable(add_timetable_url, {\"code\" : \"2204-02\", \"name\" : \"컴퓨터\"})\n",
    "response = addTimeTable(add_timetable_url, {\"code\" : \"2748\", \"name\" : \"언어\"})\n",
    "response = addTimeTable(add_timetable_url, {\"code\" : \"9331\", \"name\" : \"콜로퀴움\"})\n",
    "pd.DataFrame(json.loads(response.text)['timetable'], columns=['Time','Mon', 'Tue', 'Wed','Thu','Fri'])"
   ]
  },
  {
   "cell_type": "code",
   "execution_count": 98,
   "metadata": {},
   "outputs": [
    {
     "name": "stdout",
     "output_type": "stream",
     "text": [
      "status : 200\n",
      "data : {'success': False, 'timetable': [['0900-1030', '선형대수학과 응용', '영어 II : 이공계 글쓰기 입문', '선형대수학과 응용', '영어 II : 이공계 글쓰기 입문', '선형대수학과 응용'], ['1030-1200', '생명과학속 이야기들', '', '생명과학속 이야기들', '', ''], ['Lunch', '', '', '', '', ''], ['1300-1430', '기계학습 및 딥러닝', '', '기계학습 및 딥러닝', '', ''], ['1430-1600', '컴퓨터 구조', '알고리즘 개론', '컴퓨터 구조', '알고리즘 개론', ''], ['1600-1730', '언어와 마음: 언어심리학적 접근', '', '언어와 마음: 언어심리학적 접근', 'GIST대학 콜로퀴움', '']]}\n",
      "type: <class 'dict'>\n"
     ]
    }
   ],
   "source": [
    "# 현재 시간요에서 겹치는 시간대 강좌는 추가할 수 없음.\n",
    "response = addTimeTable(add_timetable_url, {\"code\" : \"9331\", \"name\" : \"콜로퀴움\"})"
   ]
  },
  {
   "cell_type": "code",
   "execution_count": 99,
   "metadata": {},
   "outputs": [
    {
     "name": "stdout",
     "output_type": "stream",
     "text": [
      "status : 200\n",
      "data : {'success': True, 'timetable': [['0900-1030', '', '영어 II : 이공계 글쓰기 입문', '', '영어 II : 이공계 글쓰기 입문', ''], ['1030-1200', '생명과학속 이야기들', '', '생명과학속 이야기들', '', ''], ['Lunch', '', '', '', '', ''], ['1300-1430', '기계학습 및 딥러닝', '', '기계학습 및 딥러닝', '', ''], ['1430-1600', '컴퓨터 구조', '알고리즘 개론', '컴퓨터 구조', '알고리즘 개론', ''], ['1600-1730', '언어와 마음: 언어심리학적 접근', '', '언어와 마음: 언어심리학적 접근', 'GIST대학 콜로퀴움', '']]}\n",
      "type: <class 'dict'>\n"
     ]
    },
    {
     "data": {
      "text/html": [
       "<div>\n",
       "<style scoped>\n",
       "    .dataframe tbody tr th:only-of-type {\n",
       "        vertical-align: middle;\n",
       "    }\n",
       "\n",
       "    .dataframe tbody tr th {\n",
       "        vertical-align: top;\n",
       "    }\n",
       "\n",
       "    .dataframe thead th {\n",
       "        text-align: right;\n",
       "    }\n",
       "</style>\n",
       "<table border=\"1\" class=\"dataframe\">\n",
       "  <thead>\n",
       "    <tr style=\"text-align: right;\">\n",
       "      <th></th>\n",
       "      <th>Time</th>\n",
       "      <th>Mon</th>\n",
       "      <th>Tue</th>\n",
       "      <th>Wed</th>\n",
       "      <th>Thu</th>\n",
       "      <th>Fri</th>\n",
       "    </tr>\n",
       "  </thead>\n",
       "  <tbody>\n",
       "    <tr>\n",
       "      <th>0</th>\n",
       "      <td>0900-1030</td>\n",
       "      <td></td>\n",
       "      <td>영어 II : 이공계 글쓰기 입문</td>\n",
       "      <td></td>\n",
       "      <td>영어 II : 이공계 글쓰기 입문</td>\n",
       "      <td></td>\n",
       "    </tr>\n",
       "    <tr>\n",
       "      <th>1</th>\n",
       "      <td>1030-1200</td>\n",
       "      <td>생명과학속 이야기들</td>\n",
       "      <td></td>\n",
       "      <td>생명과학속 이야기들</td>\n",
       "      <td></td>\n",
       "      <td></td>\n",
       "    </tr>\n",
       "    <tr>\n",
       "      <th>2</th>\n",
       "      <td>Lunch</td>\n",
       "      <td></td>\n",
       "      <td></td>\n",
       "      <td></td>\n",
       "      <td></td>\n",
       "      <td></td>\n",
       "    </tr>\n",
       "    <tr>\n",
       "      <th>3</th>\n",
       "      <td>1300-1430</td>\n",
       "      <td>기계학습 및 딥러닝</td>\n",
       "      <td></td>\n",
       "      <td>기계학습 및 딥러닝</td>\n",
       "      <td></td>\n",
       "      <td></td>\n",
       "    </tr>\n",
       "    <tr>\n",
       "      <th>4</th>\n",
       "      <td>1430-1600</td>\n",
       "      <td>컴퓨터 구조</td>\n",
       "      <td>알고리즘 개론</td>\n",
       "      <td>컴퓨터 구조</td>\n",
       "      <td>알고리즘 개론</td>\n",
       "      <td></td>\n",
       "    </tr>\n",
       "    <tr>\n",
       "      <th>5</th>\n",
       "      <td>1600-1730</td>\n",
       "      <td>언어와 마음: 언어심리학적 접근</td>\n",
       "      <td></td>\n",
       "      <td>언어와 마음: 언어심리학적 접근</td>\n",
       "      <td>GIST대학 콜로퀴움</td>\n",
       "      <td></td>\n",
       "    </tr>\n",
       "  </tbody>\n",
       "</table>\n",
       "</div>"
      ],
      "text/plain": [
       "        Time                Mon                 Tue                Wed  \\\n",
       "0  0900-1030                     영어 II : 이공계 글쓰기 입문                      \n",
       "1  1030-1200         생명과학속 이야기들                             생명과학속 이야기들   \n",
       "2      Lunch                                                             \n",
       "3  1300-1430         기계학습 및 딥러닝                             기계학습 및 딥러닝   \n",
       "4  1430-1600             컴퓨터 구조             알고리즘 개론             컴퓨터 구조   \n",
       "5  1600-1730  언어와 마음: 언어심리학적 접근                      언어와 마음: 언어심리학적 접근   \n",
       "\n",
       "                  Thu Fri  \n",
       "0  영어 II : 이공계 글쓰기 입문      \n",
       "1                          \n",
       "2                          \n",
       "3                          \n",
       "4             알고리즘 개론      \n",
       "5         GIST대학 콜로퀴움      "
      ]
     },
     "execution_count": 99,
     "metadata": {},
     "output_type": "execute_result"
    }
   ],
   "source": [
    "# 시간표에서 강좌 지우기.\n",
    "def removeTimeTable(url : str, data : dict):\n",
    "    response = requests.delete(url, json=data)\n",
    "    print(f\"status : {response.status_code}\")\n",
    "    print(f\"data : {json.loads(response.text)}\")\n",
    "    print(f\"type: {type(json.loads(response.text))}\")\n",
    "    return response\n",
    "\n",
    "response = removeTimeTable(remove_timetable_url, {\"code\" : \"2004-03\", \"name\" : \"선형\"})\n",
    "pd.DataFrame(json.loads(response.text)['timetable'], columns=['Time','Mon', 'Tue', 'Wed','Thu','Fri'])"
   ]
  },
  {
   "cell_type": "code",
   "execution_count": 100,
   "metadata": {},
   "outputs": [
    {
     "name": "stdout",
     "output_type": "stream",
     "text": [
      "status : 200\n",
      "data : {'success': True, 'timetable': [['0900-1030', '', '영어 II : 이공계 글쓰기 입문', '', '영어 II : 이공계 글쓰기 입문', ''], ['1030-1200', '생명과학속 이야기들', '', '생명과학속 이야기들', '', ''], ['Lunch', '', '', '', '', ''], ['1300-1430', '기계학습 및 딥러닝', '', '기계학습 및 딥러닝', '', ''], ['1430-1600', '컴퓨터 구조', '알고리즘 개론', '컴퓨터 구조', '알고리즘 개론', ''], ['1600-1730', '언어와 마음: 언어심리학적 접근', '', '언어와 마음: 언어심리학적 접근', 'GIST대학 콜로퀴움', '']]}\n",
      "type: <class 'dict'>\n"
     ]
    },
    {
     "data": {
      "text/html": [
       "<div>\n",
       "<style scoped>\n",
       "    .dataframe tbody tr th:only-of-type {\n",
       "        vertical-align: middle;\n",
       "    }\n",
       "\n",
       "    .dataframe tbody tr th {\n",
       "        vertical-align: top;\n",
       "    }\n",
       "\n",
       "    .dataframe thead th {\n",
       "        text-align: right;\n",
       "    }\n",
       "</style>\n",
       "<table border=\"1\" class=\"dataframe\">\n",
       "  <thead>\n",
       "    <tr style=\"text-align: right;\">\n",
       "      <th></th>\n",
       "      <th>Time</th>\n",
       "      <th>Mon</th>\n",
       "      <th>Tue</th>\n",
       "      <th>Wed</th>\n",
       "      <th>Thu</th>\n",
       "      <th>Fri</th>\n",
       "    </tr>\n",
       "  </thead>\n",
       "  <tbody>\n",
       "    <tr>\n",
       "      <th>0</th>\n",
       "      <td>0900-1030</td>\n",
       "      <td></td>\n",
       "      <td>영어 II : 이공계 글쓰기 입문</td>\n",
       "      <td></td>\n",
       "      <td>영어 II : 이공계 글쓰기 입문</td>\n",
       "      <td></td>\n",
       "    </tr>\n",
       "    <tr>\n",
       "      <th>1</th>\n",
       "      <td>1030-1200</td>\n",
       "      <td>생명과학속 이야기들</td>\n",
       "      <td></td>\n",
       "      <td>생명과학속 이야기들</td>\n",
       "      <td></td>\n",
       "      <td></td>\n",
       "    </tr>\n",
       "    <tr>\n",
       "      <th>2</th>\n",
       "      <td>Lunch</td>\n",
       "      <td></td>\n",
       "      <td></td>\n",
       "      <td></td>\n",
       "      <td></td>\n",
       "      <td></td>\n",
       "    </tr>\n",
       "    <tr>\n",
       "      <th>3</th>\n",
       "      <td>1300-1430</td>\n",
       "      <td>기계학습 및 딥러닝</td>\n",
       "      <td></td>\n",
       "      <td>기계학습 및 딥러닝</td>\n",
       "      <td></td>\n",
       "      <td></td>\n",
       "    </tr>\n",
       "    <tr>\n",
       "      <th>4</th>\n",
       "      <td>1430-1600</td>\n",
       "      <td>컴퓨터 구조</td>\n",
       "      <td>알고리즘 개론</td>\n",
       "      <td>컴퓨터 구조</td>\n",
       "      <td>알고리즘 개론</td>\n",
       "      <td></td>\n",
       "    </tr>\n",
       "    <tr>\n",
       "      <th>5</th>\n",
       "      <td>1600-1730</td>\n",
       "      <td>언어와 마음: 언어심리학적 접근</td>\n",
       "      <td></td>\n",
       "      <td>언어와 마음: 언어심리학적 접근</td>\n",
       "      <td>GIST대학 콜로퀴움</td>\n",
       "      <td></td>\n",
       "    </tr>\n",
       "  </tbody>\n",
       "</table>\n",
       "</div>"
      ],
      "text/plain": [
       "        Time                Mon                 Tue                Wed  \\\n",
       "0  0900-1030                     영어 II : 이공계 글쓰기 입문                      \n",
       "1  1030-1200         생명과학속 이야기들                             생명과학속 이야기들   \n",
       "2      Lunch                                                             \n",
       "3  1300-1430         기계학습 및 딥러닝                             기계학습 및 딥러닝   \n",
       "4  1430-1600             컴퓨터 구조             알고리즘 개론             컴퓨터 구조   \n",
       "5  1600-1730  언어와 마음: 언어심리학적 접근                      언어와 마음: 언어심리학적 접근   \n",
       "\n",
       "                  Thu Fri  \n",
       "0  영어 II : 이공계 글쓰기 입문      \n",
       "1                          \n",
       "2                          \n",
       "3                          \n",
       "4             알고리즘 개론      \n",
       "5         GIST대학 콜로퀴움      "
      ]
     },
     "execution_count": 100,
     "metadata": {},
     "output_type": "execute_result"
    }
   ],
   "source": [
    "# 강좌 지우는 결과는 \"\"이기 떄문에 항상 True 값으로,\n",
    "response = removeTimeTable(remove_timetable_url, {\"code\" : \"2004-03\", \"name\" : \"선형\"})\n",
    "pd.DataFrame(json.loads(response.text)['timetable'], columns=['Time','Mon', 'Tue', 'Wed','Thu','Fri'])"
   ]
  },
  {
   "cell_type": "code",
   "execution_count": 102,
   "metadata": {},
   "outputs": [
    {
     "name": "stdout",
     "output_type": "stream",
     "text": [
      "status : 200\n",
      "data : {'success': True, 'timetable': [['0900-1030', '', '영어 II : 이공계 글쓰기 입문', '', '영어 II : 이공계 글쓰기 입문', ''], ['1030-1200', '생명과학속 이야기들', '', '생명과학속 이야기들', '', ''], ['Lunch', '', '', '', '', ''], ['1300-1430', '기계학습 및 딥러닝', '', '기계학습 및 딥러닝', '', ''], ['1430-1600', '컴퓨터 구조', '알고리즘 개론', '컴퓨터 구조', '알고리즘 개론', ''], ['1600-1730', '언어와 마음: 언어심리학적 접근', '', '언어와 마음: 언어심리학적 접근', '', '']]}\n",
      "type: <class 'dict'>\n",
      "status : 200\n",
      "data : {'success': True, 'timetable': [['0900-1030', '선형대수학과 응용', '영어 II : 이공계 글쓰기 입문', '선형대수학과 응용', '영어 II : 이공계 글쓰기 입문', '선형대수학과 응용'], ['1030-1200', '생명과학속 이야기들', '', '생명과학속 이야기들', '', ''], ['Lunch', '', '', '', '', ''], ['1300-1430', '기계학습 및 딥러닝', '', '기계학습 및 딥러닝', '', ''], ['1430-1600', '컴퓨터 구조', '알고리즘 개론', '컴퓨터 구조', '알고리즘 개론', ''], ['1600-1730', '언어와 마음: 언어심리학적 접근', '', '언어와 마음: 언어심리학적 접근', '', '']]}\n",
      "type: <class 'dict'>\n"
     ]
    },
    {
     "data": {
      "text/html": [
       "<div>\n",
       "<style scoped>\n",
       "    .dataframe tbody tr th:only-of-type {\n",
       "        vertical-align: middle;\n",
       "    }\n",
       "\n",
       "    .dataframe tbody tr th {\n",
       "        vertical-align: top;\n",
       "    }\n",
       "\n",
       "    .dataframe thead th {\n",
       "        text-align: right;\n",
       "    }\n",
       "</style>\n",
       "<table border=\"1\" class=\"dataframe\">\n",
       "  <thead>\n",
       "    <tr style=\"text-align: right;\">\n",
       "      <th></th>\n",
       "      <th>Time</th>\n",
       "      <th>Mon</th>\n",
       "      <th>Tue</th>\n",
       "      <th>Wed</th>\n",
       "      <th>Thu</th>\n",
       "      <th>Fri</th>\n",
       "    </tr>\n",
       "  </thead>\n",
       "  <tbody>\n",
       "    <tr>\n",
       "      <th>0</th>\n",
       "      <td>0900-1030</td>\n",
       "      <td>선형대수학과 응용</td>\n",
       "      <td>영어 II : 이공계 글쓰기 입문</td>\n",
       "      <td>선형대수학과 응용</td>\n",
       "      <td>영어 II : 이공계 글쓰기 입문</td>\n",
       "      <td>선형대수학과 응용</td>\n",
       "    </tr>\n",
       "    <tr>\n",
       "      <th>1</th>\n",
       "      <td>1030-1200</td>\n",
       "      <td>생명과학속 이야기들</td>\n",
       "      <td></td>\n",
       "      <td>생명과학속 이야기들</td>\n",
       "      <td></td>\n",
       "      <td></td>\n",
       "    </tr>\n",
       "    <tr>\n",
       "      <th>2</th>\n",
       "      <td>Lunch</td>\n",
       "      <td></td>\n",
       "      <td></td>\n",
       "      <td></td>\n",
       "      <td></td>\n",
       "      <td></td>\n",
       "    </tr>\n",
       "    <tr>\n",
       "      <th>3</th>\n",
       "      <td>1300-1430</td>\n",
       "      <td>기계학습 및 딥러닝</td>\n",
       "      <td></td>\n",
       "      <td>기계학습 및 딥러닝</td>\n",
       "      <td></td>\n",
       "      <td></td>\n",
       "    </tr>\n",
       "    <tr>\n",
       "      <th>4</th>\n",
       "      <td>1430-1600</td>\n",
       "      <td>컴퓨터 구조</td>\n",
       "      <td>알고리즘 개론</td>\n",
       "      <td>컴퓨터 구조</td>\n",
       "      <td>알고리즘 개론</td>\n",
       "      <td></td>\n",
       "    </tr>\n",
       "    <tr>\n",
       "      <th>5</th>\n",
       "      <td>1600-1730</td>\n",
       "      <td>언어와 마음: 언어심리학적 접근</td>\n",
       "      <td></td>\n",
       "      <td>언어와 마음: 언어심리학적 접근</td>\n",
       "      <td></td>\n",
       "      <td></td>\n",
       "    </tr>\n",
       "  </tbody>\n",
       "</table>\n",
       "</div>"
      ],
      "text/plain": [
       "        Time                Mon                 Tue                Wed  \\\n",
       "0  0900-1030          선형대수학과 응용  영어 II : 이공계 글쓰기 입문          선형대수학과 응용   \n",
       "1  1030-1200         생명과학속 이야기들                             생명과학속 이야기들   \n",
       "2      Lunch                                                             \n",
       "3  1300-1430         기계학습 및 딥러닝                             기계학습 및 딥러닝   \n",
       "4  1430-1600             컴퓨터 구조             알고리즘 개론             컴퓨터 구조   \n",
       "5  1600-1730  언어와 마음: 언어심리학적 접근                      언어와 마음: 언어심리학적 접근   \n",
       "\n",
       "                  Thu        Fri  \n",
       "0  영어 II : 이공계 글쓰기 입문  선형대수학과 응용  \n",
       "1                                 \n",
       "2                                 \n",
       "3                                 \n",
       "4             알고리즘 개론             \n",
       "5                                 "
      ]
     },
     "execution_count": 102,
     "metadata": {},
     "output_type": "execute_result"
    }
   ],
   "source": [
    "# 추가로 과목 삭제 후 과목 추가\n",
    "response = removeTimeTable(remove_timetable_url, {\"code\" : \"9331\", \"name\" : \"콜로퀴움\"})\n",
    "response = addTimeTable(add_timetable_url, {\"code\" : \"2004-03\", \"name\" : \"선형\"})\n",
    "pd.DataFrame(json.loads(response.text)['timetable'], columns=['Time','Mon', 'Tue', 'Wed','Thu','Fri'])"
   ]
  },
  {
   "cell_type": "markdown",
   "metadata": {},
   "source": [
    "# 2nd Week"
   ]
  },
  {
   "cell_type": "code",
   "execution_count": 2,
   "metadata": {},
   "outputs": [],
   "source": [
    "import requests\n",
    "import pandas as pd\n",
    "import json"
   ]
  },
  {
   "cell_type": "code",
   "execution_count": 3,
   "metadata": {},
   "outputs": [],
   "source": [
    "#main url\n",
    "url = f\"http://127.0.0.1:8000/\""
   ]
  },
  {
   "cell_type": "markdown",
   "metadata": {},
   "source": [
    "## email로 계정 생성"
   ]
  },
  {
   "cell_type": "code",
   "execution_count": 61,
   "metadata": {},
   "outputs": [
    {
     "name": "stdout",
     "output_type": "stream",
     "text": [
      "200\n",
      "{\"email\":\"jhjh6615@gmail.com\",\"id\":3,\"is_active\":true,\"items\":[]}\n"
     ]
    }
   ],
   "source": [
    "response = requests.post(url+'users/', json={'email' : 'jhjh6615@gmail.com', 'password' : 'jhjh6612'})\n",
    "print(response.status_code)\n",
    "print(response.text)"
   ]
  },
  {
   "cell_type": "markdown",
   "metadata": {},
   "source": [
    "## 계정 전체 불러오기"
   ]
  },
  {
   "cell_type": "code",
   "execution_count": 58,
   "metadata": {},
   "outputs": [
    {
     "name": "stdout",
     "output_type": "stream",
     "text": [
      "http://127.0.0.1:8000/users/\n",
      "http://127.0.0.1:8000/users/\n",
      "200\n",
      "{'date': 'Sun, 25 Aug 2024 11:07:08 GMT', 'server': 'uvicorn', 'content-length': '205', 'content-type': 'application/json'}\n",
      "[{\"email\":\"jhjh6612@gmail.com\",\"id\":1,\"is_active\":true,\"items\":[{\"title\":\"Home Alone.\",\"description\":\"fun fnu fun!\",\"id\":1,\"owner_id\":1}]},{\"email\":\"jhjh6613@gmail.com\",\"id\":2,\"is_active\":true,\"items\":[]}]\n"
     ]
    }
   ],
   "source": [
    "request_url = url+'users/'\n",
    "print(request_url)\n",
    "response = requests.get(url=request_url)\n",
    "print(response.url)\n",
    "print(response.status_code)\n",
    "print(response.headers)\n",
    "print(response.text)"
   ]
  },
  {
   "cell_type": "markdown",
   "metadata": {},
   "source": [
    "## 특정 값으로 계정 정보 불러오기"
   ]
  },
  {
   "cell_type": "code",
   "execution_count": 59,
   "metadata": {},
   "outputs": [
    {
     "name": "stdout",
     "output_type": "stream",
     "text": [
      "http://127.0.0.1:8000/users/\n",
      "http://127.0.0.1:8000/users/2\n",
      "200\n",
      "{'date': 'Sun, 25 Aug 2024 11:07:11 GMT', 'server': 'uvicorn', 'content-length': '65', 'content-type': 'application/json'}\n",
      "{\"email\":\"jhjh6613@gmail.com\",\"id\":2,\"is_active\":true,\"items\":[]}\n"
     ]
    }
   ],
   "source": [
    "payload = 2\n",
    "request_url = url+'users/'\n",
    "print(request_url)\n",
    "response = requests.get(url=request_url + f\"{payload}\")\n",
    "print(response.url)\n",
    "print(response.status_code)\n",
    "print(response.headers)\n",
    "print(response.text)"
   ]
  },
  {
   "cell_type": "markdown",
   "metadata": {},
   "source": [
    "## 계정에 item 추가"
   ]
  },
  {
   "cell_type": "code",
   "execution_count": 60,
   "metadata": {},
   "outputs": [
    {
     "name": "stdout",
     "output_type": "stream",
     "text": [
      "http://127.0.0.1:8000/users/2/items/\n",
      "200\n",
      "{'date': 'Sun, 25 Aug 2024 11:07:33 GMT', 'server': 'uvicorn', 'content-length': '65', 'content-type': 'application/json'}\n",
      "{\"title\":\"Titanic\",\"description\":\"Exciting!\",\"id\":2,\"owner_id\":2}\n"
     ]
    }
   ],
   "source": [
    "user_id = 2\n",
    "request_url = url + 'users/' + f\"{user_id}/\" + \"items/\"\n",
    "data = {'title' : \"Titanic\",\n",
    "        'description' : \"Exciting!\"\n",
    "        }\n",
    "\n",
    "response = requests.post(url=request_url, json=data)\n",
    "print(response.url)\n",
    "print(response.status_code)\n",
    "print(response.headers)\n",
    "print(response.text)\n"
   ]
  },
  {
   "cell_type": "markdown",
   "metadata": {},
   "source": [
    "# 전체 강좌 불러오기"
   ]
  },
  {
   "cell_type": "code",
   "execution_count": 171,
   "metadata": {},
   "outputs": [
    {
     "name": "stdout",
     "output_type": "stream",
     "text": [
      "http://127.0.0.1:8000/courses/\n",
      "200\n",
      "{'date': 'Tue, 27 Aug 2024 13:00:09 GMT', 'server': 'uvicorn', 'content-length': '3760', 'content-type': 'application/json'}\n",
      "[{\"code\":\"AI2002-01\",\"name\":\"디지털 유니버스 콜로퀴움\",\"division\":\"AI융합 부전공\",\"professor\":\"황치옥[60934]\",\"schedules\":[{\"day\":\"Thu\",\"time\":\"1600~1700\"}]},{\"code\":\"AI3050-01\",\"name\":\"프로그래밍 언어 및 컴파일러\",\"division\":\"AI융합 부전공\",\"professor\":\"소순범[64560]\",\"schedules\":[{\"day\":\"Mon\",\"time\":\"1600~1730\"},{\"day\":\"Wed\",\"time\":\"1600~1730\"}]},{\"code\":\"AI3301-01\",\"name\":\"(MOOC 지정) 인공지능 로봇의 윤리\",\"division\":\"AI융합 부전공\",\"professor\":\"김건우[61974]\",\"schedules\":[{\"day\":\"Mon\",\"time\":\"0900~1030\"},{\"day\":\"Wed\",\"time\":\"0900~1030\"}]},{\"code\":\"AI4001-01\",\"name\":\"AI 핵심기술 기반 실무 프로젝트 2\",\"division\":\"AI융합 부전공\",\"professor\":\"공득조[62553]\",\"schedules\":[{\"day\":\"Fri\",\"time\":\"1300~1800\"}]},{\"code\":\"AI4003-01\",\"name\":\"인공지능 경험 랩\",\"division\":\"AI융합 부전공\",\"professor\":\"김의환[64023]\",\"schedules\":[{\"day\":\"Mon\",\"time\":\"1600~1830\"},{\"day\":\"Wed\",\"time\":\"1600~1830\"}]},{\"code\":\"AI4021-01\",\"name\":\"기계학습 및 딥러닝\",\"division\":\"AI융합 부전공\",\"professor\":\"김선동[64338]\",\"schedules\":[{\"day\":\"Mon\",\"time\":\"1300~1430\"},{\"day\":\"Wed\",\"time\":\"1300~1430\"}]},{\"code\":\"AI4450-01\",\"name\":\"지능형 모터 융합 프로젝트\",\"division\":\"AI융합 부전공\",\"professor\":\"허필원[63766]\",\"schedules\":[{\"day\":\"Fri\",\"time\":\"1300~1700\"}]},{\"code\":\"BS2103-01\",\"name\":\"생화학·분자생물학 실험\",\"division\":\"생명과학부\",\"professor\":\"김영준[60665]\\n김준영[61444]\\n진석원[61956]\",\"schedules\":[{\"day\":\"Tue\",\"time\":\"1300~1800\"}]},{\"code\":\"BS2103-02\",\"name\":\"생화학·분자생물학 실험\",\"division\":\"생명과학부\",\"professor\":\"김영준[60665]\\n김준영[61444]\\n진석원[61956]\",\"schedules\":[{\"day\":\"Fri\",\"time\":\"1300~1800\"}]},{\"code\":\"BS2104-01\",\"name\":\"생화학 I\",\"division\":\"생명과학부\",\"professor\":\"박철승[01096]\\n엄수현[01123]\\n이선재[63721]\",\"schedules\":[{\"day\":\"Mon\",\"time\":\"1030~1200\"},{\"day\":\"Wed\",\"time\":\"1030~1200\"}]},{\"code\":\"BS2201-01\",\"name\":\"생명과학의 정량적 이해\",\"division\":\"생명과학부\",\"professor\":\"엄수현[01123]\",\"schedules\":[{\"day\":\"Thu\",\"time\":\"1400~1600\"}]},{\"code\":\"BS2202-01\",\"name\":\"유전학\",\"division\":\"생명과학부\",\"professor\":\"진석원[61956]\",\"schedules\":[{\"day\":\"Mon\",\"time\":\"1300~1430\"},{\"day\":\"Wed\",\"time\":\"1300~1430\"}]},{\"code\":\"BS2204-01\",\"name\":\"기초 해부조직학\",\"division\":\"생명과학부\",\"professor\":\"남정석[62330]\",\"schedules\":[{\"day\":\"Tue\",\"time\":\"0900~1030\"},{\"day\":\"Thu\",\"time\":\"0900~1030\"}]},{\"code\":\"BS2205-01\",\"name\":\"생명정보학 개론\",\"division\":\"생명과학부\",\"professor\":\"이선재[63721]\",\"schedules\":[{\"day\":\"Tue\",\"time\":\"1030~1200\"},{\"day\":\"Thu\",\"time\":\"1030~1200\"}]},{\"code\":\"BS3101-01\",\"name\":\"생화학 II\",\"division\":\"생명과학부\",\"professor\":\"허윤현[63163]\",\"schedules\":[{\"day\":\"Mon\",\"time\":\"1600~1730\"},{\"day\":\"Wed\",\"time\":\"1600~1730\"}]},{\"code\":\"BS3201-01\",\"name\":\"미생물학\",\"division\":\"생명과학부\",\"professor\":\"박대호[30565]\",\"schedules\":[{\"day\":\"Tue\",\"time\":\"0900~1030\"},{\"day\":\"Thu\",\"time\":\"0900~1030\"}]},{\"code\":\"BS3205-01\",\"name\":\"환경생태학\",\"division\":\"생명과학부\",\"professor\":\"김은석[61667]\",\"schedules\":[{\"day\":\"Tue\",\"time\":\"1300~1430\"},{\"day\":\"Thu\",\"time\":\"1300~1430\"}]},{\"code\":\"BS3208-01\",\"name\":\"면역학\",\"division\":\"생명과학부\",\"professor\":\"최진욱[64206]\",\"schedules\":[{\"day\":\"Tue\",\"time\":\"1030~1200\"},{\"day\":\"Thu\",\"time\":\"1030~1200\"}]},{\"code\":\"BS4217-01\",\"name\":\"생리학 Ⅱ\",\"division\":\"생명과학부\",\"professor\":\"박우진[01100]\",\"schedules\":[{\"day\":\"Tue\",\"time\":\"1030~1200\"},{\"day\":\"Thu\",\"time\":\"1030~1200\"}]},{\"code\":\"BS9102-01\",\"name\":\"학사논문연구 I\",\"division\":\"생명과학부\",\"professor\":\"\",\"schedules\":[]}]\n"
     ]
    }
   ],
   "source": [
    "request_url = url + 'courses/'\n",
    "\n",
    "response = requests.get(url=request_url)\n",
    "print(response.url)\n",
    "print(response.status_code)\n",
    "print(response.headers)\n",
    "print(response.text)\n"
   ]
  },
  {
   "cell_type": "markdown",
   "metadata": {},
   "source": [
    "## 특정 강좌 조회"
   ]
  },
  {
   "cell_type": "code",
   "execution_count": 176,
   "metadata": {},
   "outputs": [
    {
     "name": "stdout",
     "output_type": "stream",
     "text": [
      "http://127.0.0.1:8000/courses/\n",
      "200\n",
      "{'date': 'Tue, 27 Aug 2024 13:02:35 GMT', 'server': 'uvicorn', 'content-length': '208', 'content-type': 'application/json'}\n",
      "{\"professor\":\"수만 판데[63982]\",\"code\":\"EC2206-01\",\"division\":\"전기전자컴퓨터공학부\",\"schedules\":[{\"day\":\"Mon\",\"time\":\"1430~1600\"},{\"day\":\"Wed\",\"time\":\"1430~1600\"}],\"name\":\"알고리즘 개론\"}\n"
     ]
    }
   ],
   "source": [
    "request_url = url + 'courses/'\n",
    "request_form = {'division': None, \n",
    "                 'code': 'EC2206-01', \n",
    "                 'name': '알고리즘 개론', \n",
    "                 'professor': None, \n",
    "                 'schedules': []}\n",
    "\n",
    "response = requests.post(url=request_url, json=request_form)\n",
    "print(response.url)\n",
    "print(response.status_code)\n",
    "print(response.headers)\n",
    "print(response.text)"
   ]
  },
  {
   "cell_type": "markdown",
   "metadata": {},
   "source": [
    "## 강좌 생성"
   ]
  },
  {
   "cell_type": "code",
   "execution_count": 119,
   "metadata": {},
   "outputs": [
    {
     "name": "stdout",
     "output_type": "stream",
     "text": [
      "http://127.0.0.1:8000/course/\n",
      "200\n",
      "{'date': 'Tue, 27 Aug 2024 04:35:42 GMT', 'server': 'uvicorn', 'content-length': '208', 'content-type': 'application/json'}\n",
      "{\"code\":\"AI2902-01\",\"name\":\"디지털 유니버스 콜로퀴움\",\"division\":\"AI융합 부전공\",\"professor\":\"황치옥[60934]\",\"schedules\":[{\"day\":\"Mon\",\"time\":\"0900-1030\"},{\"day\":\"Wed\",\"time\":\"0900-1030\"}]}\n"
     ]
    }
   ],
   "source": [
    "request_url = url + 'course/'\n",
    "\n",
    "sample_course = {'division': 'AI융합 부전공', \n",
    "                 'code': 'AI2902-01', \n",
    "                 'name': '디지털 유니버스 콜로퀴움334', \n",
    "                 'professor': '황치옥[60934]++', \n",
    "                 'schedules': [{\"day\":\"Mon\", \"time\":\"0900-1030\"},\n",
    "                          {\"day\":\"Wed\", \"time\":\"0900-1030\"}\n",
    "                          ]}\n",
    "\n",
    "sample_course2 = {'division': 'AI융합 부전공', \n",
    "                 'code': 'AI2902-01', \n",
    "                 'name': '디지털 유니버스 콜로퀴움', \n",
    "                 'professor': '황치옥[60934]', \n",
    "                 'schedules': [{\"day\":\"Mon\", \"time\":\"0900-1030\"},\n",
    "                          {\"day\":\"Wed\", \"time\":\"0900-1030\"}\n",
    "                          ]\n",
    "                     }\n",
    "\n",
    "\n",
    "response = requests.post(url=request_url, json=sample_course2)\n",
    "print(response.url)\n",
    "print(response.status_code)\n",
    "print(response.headers)\n",
    "print(response.text)"
   ]
  },
  {
   "cell_type": "markdown",
   "metadata": {},
   "source": [
    "## 강좌 삭제"
   ]
  },
  {
   "cell_type": "code",
   "execution_count": 118,
   "metadata": {},
   "outputs": [
    {
     "name": "stdout",
     "output_type": "stream",
     "text": [
      "http://127.0.0.1:8000/course/\n",
      "200\n",
      "{'date': 'Tue, 27 Aug 2024 04:35:22 GMT', 'server': 'uvicorn', 'content-length': '212', 'content-type': 'application/json'}\n",
      "{\"division\":\"AI융합 부전공\",\"schedules\":[{\"day\":\"Mon\",\"time\":\"0900-1030\"},{\"day\":\"Wed\",\"time\":\"0900-1030\"}],\"name\":\"디지털 유니버스 콜로퀴움334\",\"professor\":\"황치옥[60934]\",\"code\":\"AI2902-013\"}\n"
     ]
    }
   ],
   "source": [
    "request_url = url + 'course/'\n",
    "\n",
    "sample_course = {'division': 'AI융합 부전공', \n",
    "                 'code': 'AI2902-01', \n",
    "                 'name': '디지털 유니버스 콜로퀴움334', \n",
    "                 'professor': '황치옥[60934]++', \n",
    "                 'schedules': [{\"day\":\"Mon\", \"time\":\"0900-1030\"},\n",
    "                          {\"day\":\"Wed\", \"time\":\"0900-1030\"}\n",
    "                          ]}\n",
    "\n",
    "sample_course2 = {'division': 'AI융합 부전공', \n",
    "                 'code': 'AI2902-01', \n",
    "                 'name': '디지털 유니버스 콜로퀴움334', \n",
    "                 'professor': '황치옥[60934]', \n",
    "                 'schedules': [{\"day\":\"Mon\", \"time\":\"0900-1030\"},\n",
    "                          {\"day\":\"Wed\", \"time\":\"0900-1030\"}\n",
    "                          ]\n",
    "                     }\n",
    "\n",
    "\n",
    "response = requests.delete(url=request_url, json={\"code\" : \"AI2902-013\"})\n",
    "print(response.url)\n",
    "print(response.status_code)\n",
    "print(response.headers)\n",
    "print(response.text)"
   ]
  },
  {
   "cell_type": "markdown",
   "metadata": {},
   "source": [
    "## 강좌 정보 수정"
   ]
  },
  {
   "cell_type": "code",
   "execution_count": 120,
   "metadata": {},
   "outputs": [
    {
     "name": "stdout",
     "output_type": "stream",
     "text": [
      "http://127.0.0.1:8000/course/\n",
      "200\n",
      "{'date': 'Tue, 27 Aug 2024 04:36:02 GMT', 'server': 'uvicorn', 'content-length': '208', 'content-type': 'application/json'}\n",
      "{\"division\":\"AI융합 부전공\",\"schedules\":[{\"day\":\"Mon\",\"time\":\"0900~1030\"},{\"day\":\"Wed\",\"time\":\"1030~1200\"}],\"name\":\"디지털 유니버스 콜로퀴움\",\"professor\":\"황치옥[60934]\",\"code\":\"AI2902-01\"}\n"
     ]
    }
   ],
   "source": [
    "request_url = url + 'course/'\n",
    "\n",
    "sample_course2 = {'division': 'AI융합 부전공', \n",
    "                 'code': 'AI2902-01', \n",
    "                 'name': '디지털 유니버스 콜로퀴움', \n",
    "                 'professor': '황치옥[60934]', \n",
    "                 'schedules': [{\"day\":\"Mon\", \"time\":\"0900~1030\"},\n",
    "                          {\"day\":\"Wed\", \"time\":\"1030~1200\"}\n",
    "                          ]\n",
    "                     }\n",
    "\n",
    "response = requests.put(url=request_url, json=sample_course2)\n",
    "print(response.url)\n",
    "print(response.status_code)\n",
    "print(response.headers)\n",
    "print(response.text)"
   ]
  },
  {
   "cell_type": "markdown",
   "metadata": {},
   "source": [
    "## 시간표 생성"
   ]
  },
  {
   "cell_type": "code",
   "execution_count": 216,
   "metadata": {},
   "outputs": [
    {
     "name": "stdout",
     "output_type": "stream",
     "text": [
      "http://127.0.0.1:8000/timetable/\n",
      "500\n",
      "{'date': 'Wed, 28 Aug 2024 01:04:16 GMT', 'server': 'uvicorn', 'content-length': '21', 'content-type': 'text/plain; charset=utf-8'}\n",
      "Internal Server Error\n"
     ]
    }
   ],
   "source": [
    "request_url = url + 'timetable/'\n",
    "\n",
    "sample_timetable = {\"name\" : \"joohyeon\",\n",
    "                    \"code\" : None}\n",
    "\n",
    "\n",
    "response = requests.post(url=request_url, json=sample_timetable)\n",
    "print(response.url)\n",
    "print(response.status_code)\n",
    "print(response.headers)\n",
    "print(response.text)"
   ]
  },
  {
   "cell_type": "markdown",
   "metadata": {},
   "source": [
    "## 시간표 삭제"
   ]
  },
  {
   "cell_type": "code",
   "execution_count": 208,
   "metadata": {},
   "outputs": [
    {
     "name": "stdout",
     "output_type": "stream",
     "text": [
      "http://127.0.0.1:8000/timetable/\n",
      "200\n",
      "{'date': 'Wed, 28 Aug 2024 00:43:58 GMT', 'server': 'uvicorn', 'content-length': '762', 'content-type': 'application/json'}\n",
      "{\"schedules\":{\"Mon\":[\"선형대수학과 응용\\n0900~1030\",\"생명과학속 이야기들\\n1030~1200\",\"기계학습 및 딥러닝\\n1300~1430\",\"컴퓨터 구조\\n1430~1600\",\"언어와 마음: 언어심리학적 접근\\n1600~1730\"],\"Tue\":[\"영어 II : 이공계 글쓰기 입문\\n0900~1030\",\"\",\"\",\"알고리즘 개론\\n1430~1600\",\"\"],\"Wed\":[\"선형대수학과 응용\\n0900~1030\",\"생명과학속 이야기들\\n1030~1200\",\"기계학습 및 딥러닝\\n1300~1430\",\"컴퓨터 구조\\n1430~1600\",\"언어와 마음: 언어심리학적 접근\\n1600~1730\"],\"Thu\":[\"영어 II : 이공계 글쓰기 입문\\n0900~1030\",\"\",\"\",\"알고리즘 개론\\n1430~1600\",\"GIST대학 콜로퀴움\\n1600~1730\"],\"Fri\":[\"\",\"\",\"선형대수학과 응용\\n1300~1400\",\"\",\"\"]},\"name\":\"joohyeon\"}\n"
     ]
    }
   ],
   "source": [
    "request_url = url + 'timetable/'\n",
    "\n",
    "sample_timetable = {\"name\" : \"joohyeon\"}\n",
    "\n",
    "\n",
    "response = requests.delete(url=request_url, json=sample_timetable)\n",
    "print(response.url)\n",
    "print(response.status_code)\n",
    "print(response.headers)\n",
    "print(response.text)"
   ]
  },
  {
   "cell_type": "markdown",
   "metadata": {},
   "source": [
    "## 시간표 불러오기"
   ]
  },
  {
   "cell_type": "code",
   "execution_count": 212,
   "metadata": {},
   "outputs": [
    {
     "name": "stdout",
     "output_type": "stream",
     "text": [
      "http://127.0.0.1:8000/timetable/joohyeon\n",
      "200\n",
      "{'date': 'Wed, 28 Aug 2024 00:51:48 GMT', 'server': 'uvicorn', 'content-length': '4', 'content-type': 'application/json'}\n",
      "null\n"
     ]
    }
   ],
   "source": [
    "name = \"joohyeon\"\n",
    "request_url = url + 'timetable/' + name\n",
    "\n",
    "response = requests.get(url=request_url)\n",
    "print(response.url)\n",
    "print(response.status_code)\n",
    "print(response.headers)\n",
    "print(response.text)"
   ]
  },
  {
   "cell_type": "code",
   "execution_count": 211,
   "metadata": {},
   "outputs": [
    {
     "ename": "TypeError",
     "evalue": "'NoneType' object is not subscriptable",
     "output_type": "error",
     "traceback": [
      "\u001b[0;31m---------------------------------------------------------------------------\u001b[0m",
      "\u001b[0;31mTypeError\u001b[0m                                 Traceback (most recent call last)",
      "Cell \u001b[0;32mIn[211], line 10\u001b[0m\n\u001b[1;32m      7\u001b[0m response \u001b[38;5;241m=\u001b[39m requests\u001b[38;5;241m.\u001b[39mget(url\u001b[38;5;241m=\u001b[39mrequest_url)\n\u001b[1;32m      8\u001b[0m data_json \u001b[38;5;241m=\u001b[39m json\u001b[38;5;241m.\u001b[39mloads(response\u001b[38;5;241m.\u001b[39mtext)\n\u001b[0;32m---> 10\u001b[0m data_list \u001b[38;5;241m=\u001b[39m \u001b[38;5;28mlist\u001b[39m(\u001b[43mdata_json\u001b[49m\u001b[43m[\u001b[49m\u001b[38;5;124;43m\"\u001b[39;49m\u001b[38;5;124;43mschedules\u001b[39;49m\u001b[38;5;124;43m\"\u001b[39;49m\u001b[43m]\u001b[49m\u001b[38;5;241m.\u001b[39mvalues())\n\u001b[1;32m     11\u001b[0m data_pd_df \u001b[38;5;241m=\u001b[39m pd\u001b[38;5;241m.\u001b[39mDataFrame(data_list)\u001b[38;5;241m.\u001b[39mT\n\u001b[1;32m     12\u001b[0m data_pd_df\u001b[38;5;241m.\u001b[39mcolumns \u001b[38;5;241m=\u001b[39m [\u001b[38;5;124m'\u001b[39m\u001b[38;5;124mMon\u001b[39m\u001b[38;5;124m'\u001b[39m,\u001b[38;5;124m'\u001b[39m\u001b[38;5;124mTue\u001b[39m\u001b[38;5;124m'\u001b[39m,\u001b[38;5;124m'\u001b[39m\u001b[38;5;124mWed\u001b[39m\u001b[38;5;124m'\u001b[39m,\u001b[38;5;124m'\u001b[39m\u001b[38;5;124mThu\u001b[39m\u001b[38;5;124m'\u001b[39m,\u001b[38;5;124m'\u001b[39m\u001b[38;5;124mFri\u001b[39m\u001b[38;5;124m'\u001b[39m]\n",
      "\u001b[0;31mTypeError\u001b[0m: 'NoneType' object is not subscriptable"
     ]
    }
   ],
   "source": [
    "import pandas as pd\n",
    "import json\n",
    "\n",
    "name = \"joohyeon\"\n",
    "request_url = url + 'timetable/' + name\n",
    "\n",
    "response = requests.get(url=request_url)\n",
    "data_json = json.loads(response.text)\n",
    "\n",
    "data_list = list(data_json[\"schedules\"].values())\n",
    "data_pd_df = pd.DataFrame(data_list).T\n",
    "data_pd_df.columns = ['Mon','Tue','Wed','Thu','Fri']\n",
    "data_pd_df"
   ]
  },
  {
   "cell_type": "markdown",
   "metadata": {},
   "source": [
    "## 시간표 수정"
   ]
  },
  {
   "cell_type": "code",
   "execution_count": 206,
   "metadata": {},
   "outputs": [
    {
     "name": "stdout",
     "output_type": "stream",
     "text": [
      "http://127.0.0.1:8000/timetable/\n",
      "200\n",
      "{'date': 'Wed, 28 Aug 2024 00:43:03 GMT', 'server': 'uvicorn', 'content-length': '754', 'content-type': 'application/json'}\n",
      "{\"status\":true,\"table\":{\"Mon\":[\"선형대수학과 응용\\n0900~1030\",\"생명과학속 이야기들\\n1030~1200\",\"기계학습 및 딥러닝\\n1300~1430\",\"컴퓨터 구조\\n1430~1600\",\"언어와 마음: 언어심리학적 접근\\n1600~1730\"],\"Tue\":[\"영어 II : 이공계 글쓰기 입문\\n0900~1030\",\"\",\"\",\"알고리즘 개론\\n1430~1600\",\"\"],\"Wed\":[\"선형대수학과 응용\\n0900~1030\",\"생명과학속 이야기들\\n1030~1200\",\"기계학습 및 딥러닝\\n1300~1430\",\"컴퓨터 구조\\n1430~1600\",\"언어와 마음: 언어심리학적 접근\\n1600~1730\"],\"Thu\":[\"영어 II : 이공계 글쓰기 입문\\n0900~1030\",\"\",\"\",\"알고리즘 개론\\n1430~1600\",\"GIST대학 콜로퀴움\\n1600~1730\"],\"Fri\":[\"\",\"\",\"선형대수학과 응용\\n1300~1400\",\"\",\"\"]}}\n"
     ]
    }
   ],
   "source": [
    "request_url = url + 'timetable/'\n",
    "\n",
    "# method : \"add\" or \"drop\"\n",
    "#알고개\n",
    "sample_course = {\"method\" : \"add\",\n",
    "                    \"stu_name\" : \"joohyeon\",\n",
    "                    \"name\" : None,\n",
    "                    \"code\" : 'EC2206-02'\n",
    "                    }\n",
    "response = requests.put(url=request_url, json=sample_course)\n",
    "#선대\n",
    "sample_course = {\"method\" : \"add\",\n",
    "                    \"stu_name\" : \"joohyeon\",\n",
    "                    \"name\" : None,\n",
    "                    \"code\" : 'GS2004-03'\n",
    "                    }\n",
    "response = requests.put(url=request_url, json=sample_course)\n",
    "#생명과학 이야기들\n",
    "sample_course = {\"method\" : \"add\",\n",
    "                    \"stu_name\" : \"joohyeon\",\n",
    "                    \"name\" : None,\n",
    "                    \"code\" : 'GS1322-01'\n",
    "                    }\n",
    "response = requests.put(url=request_url, json=sample_course)\n",
    "#기계학습\n",
    "sample_course = {\"method\" : \"add\",\n",
    "                    \"stu_name\" : \"joohyeon\",\n",
    "                    \"name\" : None,\n",
    "                    \"code\" : 'AI4021-01'\n",
    "                    }\n",
    "response = requests.put(url=request_url, json=sample_course)\n",
    "#컴퓨터 구조\n",
    "sample_course = {\"method\" : \"add\",\n",
    "                    \"stu_name\" : \"joohyeon\",\n",
    "                    \"name\" : None,\n",
    "                    \"code\" : 'EC2204-02'\n",
    "                    }\n",
    "response = requests.put(url=request_url, json=sample_course)\n",
    "#언어와 마음\n",
    "sample_course = {\"method\" : \"add\",\n",
    "                    \"stu_name\" : \"joohyeon\",\n",
    "                    \"name\" : None,\n",
    "                    \"code\" : 'GS2748-01'\n",
    "                    }\n",
    "response = requests.put(url=request_url, json=sample_course)\n",
    "#영2\n",
    "sample_course = {\"method\" : \"add\",\n",
    "                    \"stu_name\" : \"joohyeon\",\n",
    "                    \"name\" : None,\n",
    "                    \"code\" : 'GS2652-02'\n",
    "                    }\n",
    "response = requests.put(url=request_url, json=sample_course)\n",
    "#콜로퀴움\n",
    "sample_course = {\"method\" : \"add\",\n",
    "                    \"stu_name\" : \"joohyeon\",\n",
    "                    \"name\" : None,\n",
    "                    \"code\" : 'UC9331-01'\n",
    "                    }\n",
    "response = requests.put(url=request_url, json=sample_course)\n",
    "\n",
    "print(response.url)\n",
    "print(response.status_code)\n",
    "print(response.headers)\n",
    "print(response.text)"
   ]
  },
  {
   "cell_type": "code",
   "execution_count": 204,
   "metadata": {},
   "outputs": [],
   "source": [
    "time = \"0900~1030\"\n",
    "tilde_idx =  time.find(\"~\")\n",
    "if int(time[:tilde_idx]) >= 900 and int(time[tilde_idx+1:]) <= 1030: period = 1"
   ]
  },
  {
   "cell_type": "code",
   "execution_count": 205,
   "metadata": {},
   "outputs": [
    {
     "data": {
      "text/plain": [
       "1"
      ]
     },
     "execution_count": 205,
     "metadata": {},
     "output_type": "execute_result"
    }
   ],
   "source": [
    "period"
   ]
  },
  {
   "cell_type": "code",
   "execution_count": null,
   "metadata": {},
   "outputs": [],
   "source": []
  }
 ],
 "metadata": {
  "kernelspec": {
   "display_name": "fastapi",
   "language": "python",
   "name": "python3"
  },
  "language_info": {
   "codemirror_mode": {
    "name": "ipython",
    "version": 3
   },
   "file_extension": ".py",
   "mimetype": "text/x-python",
   "name": "python",
   "nbconvert_exporter": "python",
   "pygments_lexer": "ipython3",
   "version": "3.12.4"
  }
 },
 "nbformat": 4,
 "nbformat_minor": 2
}
